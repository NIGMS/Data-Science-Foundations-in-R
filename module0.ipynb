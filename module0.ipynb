{
 "cells": [
  {
   "cell_type": "markdown",
   "id": "aaac69a5-e643-4d4c-b8de-adf3df6d1b99",
   "metadata": {},
   "source": [
    "## Gemini Helper Example\n",
    "\n",
    "#### Enables the proper APIs for GCP and Gemini. Returns an API key to use with Gemini."
   ]
  },
  {
   "cell_type": "code",
   "execution_count": null,
   "id": "1ffade72-693d-47af-858d-6137826e27af",
   "metadata": {
    "tags": []
   },
   "outputs": [],
   "source": [
    "!pip install git+https://github.com/NIGMS/NIGMS-Sandbox-Repository-Template.git#subdirectory=llm_integrations"
   ]
  },
  {
   "cell_type": "code",
   "execution_count": null,
   "id": "7ff13dc5-c4e4-4bd3-8938-d13a6a74bc81",
   "metadata": {},
   "outputs": [],
   "source": [
    "import gemini_helper.build as builder\n",
    "import google.generativeai as genai"
   ]
  },
  {
   "cell_type": "code",
   "execution_count": null,
   "id": "5fc620a4-6557-4191-87c4-cbec61e23973",
   "metadata": {},
   "outputs": [],
   "source": [
    "key = builder.get_api_key()"
   ]
  },
  {
   "cell_type": "code",
   "execution_count": null,
   "id": "adfe5784-93f5-40b9-9fa3-1b64a8482e97",
   "metadata": {},
   "outputs": [],
   "source": [
    "print(\"Here is your Gemini key used to activate the jupyter llm helper: \\n\\n\", key)"
   ]
  },
  {
   "cell_type": "markdown",
   "id": "13d6790c-9a7a-495c-ac64-ea0e85a2a979",
   "metadata": {},
   "source": [
    "## Gemini Example Interaction Through Code Cell Execution"
   ]
  },
  {
   "cell_type": "code",
   "execution_count": null,
   "id": "4bf47f42-5cf4-4b94-b76f-1b2e41f1f855",
   "metadata": {},
   "outputs": [],
   "source": [
    "genai.configure(api_key=key)\n",
    "model = genai.GenerativeModel(\"gemini-1.5-flash\")"
   ]
  },
  {
   "cell_type": "code",
   "execution_count": null,
   "id": "76d0b29d-0d4d-4440-a71d-707e232f24c7",
   "metadata": {},
   "outputs": [],
   "source": [
    "prompt = 'explain incomplete lineage sorting to me as if I were an undergraduate STEM major\\\n",
    "    Format your response in plain english. Keep it to a few main points.\\\n",
    "    Structure your response in bullets. Do not include markdown, new line characters \\\n",
    "    or any other special characters.'"
   ]
  },
  {
   "cell_type": "code",
   "execution_count": null,
   "id": "458ccb4a-6599-4bc9-a514-e8a6f75ac307",
   "metadata": {},
   "outputs": [],
   "source": [
    "response = model.generate_content(prompt).text"
   ]
  },
  {
   "cell_type": "code",
   "execution_count": null,
   "id": "5024ece2-a2e3-4489-ae5e-62d8fe30d331",
   "metadata": {},
   "outputs": [],
   "source": [
    "response"
   ]
  }
 ],
 "metadata": {
  "environment": {
   "kernel": "conda-base-py",
   "name": "workbench-notebooks.m129",
   "type": "gcloud",
   "uri": "us-docker.pkg.dev/deeplearning-platform-release/gcr.io/workbench-notebooks:m129"
  },
  "kernelspec": {
   "display_name": "Python 3 (ipykernel) (Local)",
   "language": "python",
   "name": "conda-base-py"
  },
  "language_info": {
   "codemirror_mode": {
    "name": "ipython",
    "version": 3
   },
   "file_extension": ".py",
   "mimetype": "text/x-python",
   "name": "python",
   "nbconvert_exporter": "python",
   "pygments_lexer": "ipython3",
   "version": "3.10.16"
  }
 },
 "nbformat": 4,
 "nbformat_minor": 5
}
