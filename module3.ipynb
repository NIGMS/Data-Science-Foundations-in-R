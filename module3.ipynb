{
 "cells": [
  {
   "cell_type": "markdown",
   "id": "title",
   "metadata": {},
   "source": [
    "# Getting Started with dplyr in R: A Hands-on Tutorial\n",
    "\n",
    "------------------------\n",
    "\n",
    "Welcome to the dplyr module in our Data Analysis and Visualization series. In this module, we'll explore the powerful `dplyr` package for data manipulation in R.\n",
    "\n",
    "## Learning Objectives\n",
    "\n",
    "After completing this module, you will be able to:\n",
    "\n",
    "1. Understand the core functions of `dplyr`.\n",
    "2. Use the pipe operator `%>%` to chain together multiple operations.\n",
    "3. Perform data manipulation tasks such as filtering, selecting, arranging, mutating, and summarizing data.\n",
    "4. Group data and perform group-wise operations.\n",
    "5. Read and write data files using `readr`.\n",
    "6. Apply these skills to real-world datasets.\n",
    "\n",
    "---"
   ]
  },
  {
   "cell_type": "markdown",
   "id": "introduction",
   "metadata": {},
   "source": [
    "## Introduction\n",
    "\n",
    "The `dplyr` package is an essential tool for data analysis in R, providing a set of intuitive functions for data manipulation. Whether you're analyzing scientific experiments, business metrics, or social data, `dplyr` offers a consistent and efficient way to handle your data.\n",
    "\n",
    "### Why dplyr?\n",
    "\n",
    "#### 1. Intuitive Grammar\n",
    "- Uses functions that mirror how we think about data.\n",
    "  - `filter()` to keep rows that match conditions.\n",
    "  - `select()` to choose specific columns.\n",
    "  - `arrange()` to sort data.\n",
    "  - `mutate()` to create new columns.\n",
    "  - `summarize()` to calculate statistics.\n",
    "- Consistent syntax makes code readable and maintainable.\n",
    "- Clear correspondence between code and analytical steps.\n",
    "\n",
    "#### 2. Performance\n",
    "- Optimized for handling large datasets.\n",
    "- Efficient memory usage.\n",
    "- Fast execution of complex operations.\n",
    "\n",
    "#### 3. Versatility\n",
    "- Works with various data formats (CSV, Excel, SQL databases).\n",
    "- Handles different types of data (numerical, categorical, time series).\n",
    "- Scales from small to big data applications.\n",
    "\n",
    "#### 4. Integration\n",
    "- Part of the tidyverse ecosystem.\n",
    "- Seamless connection with visualization tools like ggplot2.\n",
    "- Works well with specialized packages for specific domains.\n",
    "\n",
    "---"
   ]
  },
  {
   "cell_type": "markdown",
   "id": "load-packages",
   "metadata": {},
   "source": [
    "## 1. Install Packages and Load Libraries\n",
    "\n",
    "Before we start, we need to install and load the necessary packages."
   ]
  },
  {
   "cell_type": "code",
   "execution_count": null,
   "id": "install-packages",
   "metadata": {},
   "outputs": [],
   "source": [
    "# Suppress warnings and messages\n",
    "options(warn=-1)  # Suppress warnings\n",
    "options(message=FALSE)  # Suppress messages\n",
    "\n",
    "# Install required packages if not already installed\n",
    "if (!require(tidyverse)) install.packages(\"tidyverse\")\n",
    "if (!require(palmerpenguins)) install.packages(\"palmerpenguins\")\n",
    "\n",
    "# Load libraries\n",
    "library(tidyverse)\n",
    "library(palmerpenguins)\n",
    "\n",
    "# Load the dataset\n",
    "data(penguins)"
   ]
  },
  {
   "cell_type": "markdown",
   "id": "understanding-pipes",
   "metadata": {},
   "source": [
    "## 2. Understanding Pipes: A Key Concept\n",
    "\n",
    "One of the most powerful features in `dplyr` is the pipe operator `%>%`. Think of it as saying \"and then\" between operations. The pipe takes the output of one expression and passes it as the first argument to the next function.\n",
    "\n",
    "### Without Pipes\n",
    "Let's consider filtering the penguins dataset for Gentoo species and selecting specific columns without using pipes:"
   ]
  },
  {
   "cell_type": "code",
   "execution_count": null,
   "id": "without-pipes",
   "metadata": {},
   "outputs": [],
   "source": [
    "# Without pipes\n",
    "selected_data <- select(\n",
    "  filter(penguins, species == \"Gentoo\"),\n",
    "  species, island, body_mass_g\n",
    ")\n",
    "head(selected_data)"
   ]
  },
  {
   "cell_type": "markdown",
   "id": "with-pipes",
   "metadata": {},
   "source": [
    "### With Pipes\n",
    "Using pipes, the same operation becomes more readable:"
   ]
  },
  {
   "cell_type": "code",
   "execution_count": null,
   "id": "with-pipes-code",
   "metadata": {},
   "outputs": [],
   "source": [
    "# With pipes\n",
    "selected_data <- penguins %>%\n",
    "  filter(species == \"Gentoo\") %>%\n",
    "  select(species, island, body_mass_g)\n",
    "head(selected_data)"
   ]
  },
  {
   "cell_type": "markdown",
   "id": "pipe-benefits",
   "metadata": {},
   "source": [
    "### Benefits of Using Pipes\n",
    "- **Readability**: Code flows from top to bottom, mirroring the sequence of operations.\n",
    "- **Maintainability**: Easier to modify and add steps.\n",
    "- **Debugging**: Simplifies tracing through data transformations.\n",
    "\n",
    "---"
   ]
  },
  {
   "cell_type": "markdown",
   "id": "core-functions",
   "metadata": {},
   "source": [
    "## 3. Core dplyr Functions\n",
    "\n",
    "Let's explore the main functions that form the backbone of `dplyr` data manipulation. For each function, we'll:\n",
    "- Understand its purpose.\n",
    "- See its basic syntax.\n",
    "- Try practical examples with our penguin data.\n",
    "\n",
    "---"
   ]
  },
  {
   "cell_type": "markdown",
   "id": "filter",
   "metadata": {},
   "source": [
    "### 3.1 `filter()`: Subsetting Rows\n",
    "\n",
    "The `filter()` function lets you keep rows that match certain conditions. Think of it like a search function that helps you find specific observations in your dataset.\n",
    "\n",
    "#### Common Operators Used in `filter()`\n",
    "- `==` : equal to.\n",
    "- `!=` : not equal to.\n",
    "- `>` , `>=` , `<` , `<=` : greater than, greater than or equal to, less than, less than or equal to.\n",
    "- `%in%` : matches any of the values in a vector.\n",
    "- `&` : logical AND.\n",
    "- `|` : logical OR.\n",
    "- `is.na()` : checks for missing values.\n",
    "\n",
    "#### Examples"
   ]
  },
  {
   "cell_type": "code",
   "execution_count": null,
   "id": "filter-examples",
   "metadata": {},
   "outputs": [],
   "source": [
    "# Find all Gentoo penguins\n",
    "gentoo_penguins <- penguins %>%\n",
    "  filter(species == \"Gentoo\")\n",
    "head(gentoo_penguins)\n",
    "\n",
    "# Find penguins heavier than 5000g from Biscoe island\n",
    "heavy_biscoe_penguins <- penguins %>%\n",
    "  filter(body_mass_g > 5000, island == \"Biscoe\")\n",
    "head(heavy_biscoe_penguins)\n",
    "\n",
    "# Find penguins from either Dream or Torgersen islands\n",
    "dream_torgersen_penguins <- penguins %>%\n",
    "  filter(island %in% c(\"Dream\", \"Torgersen\"))\n",
    "head(dream_torgersen_penguins)"
   ]
  },
  {
   "cell_type": "markdown",
   "id": "exercise1",
   "metadata": {},
   "source": [
    "#### Exercise 1: Filtering Data\n",
    "\n",
    "**Task**: Find all female Adelie penguins with a flipper length greater than 190 mm.\n",
    "\n",
    "##### Your Code Here"
   ]
  },
  {
   "cell_type": "code",
   "execution_count": null,
   "id": "exercise1-code",
   "metadata": {},
   "outputs": [],
   "source": [
    "# Your code here"
   ]
  },
  {
   "cell_type": "markdown",
   "id": "exercise1-hint",
   "metadata": {},
   "source": [
    "<details>\n",
    "<summary><strong>Hint:</strong> Click to expand</summary>\n",
    "\n",
    "- Use `filter()` with conditions `species == \"Adelie\"`, `sex == \"female\"`, and `flipper_length_mm > 190`.\n",
    "\n",
    "</details>"
   ]
  },
  {
   "cell_type": "markdown",
   "id": "exercise1-solution",
   "metadata": {},
   "source": [
    "<details>\n",
    "<summary><strong>Solution:</strong> Click to expand</summary>\n",
    "\n",
    "```R\n",
    "# Solution\n",
    "adelie_females <- penguins %>%\n",
    "  filter(species == \"Adelie\", sex == \"female\", flipper_length_mm > 190)\n",
    "head(adelie_females)\n",
    "```\n",
    "\n",
    "</details>"
   ]
  },
  {
   "cell_type": "markdown",
   "id": "select",
   "metadata": {},
   "source": [
    "### 3.2 `select()`: Choosing Columns\n",
    "\n",
    "The `select()` function helps you pick which columns (variables) you want to keep or remove. You can:\n",
    "- Select columns by name.\n",
    "- Remove columns using `-`.\n",
    "- Use helper functions like `starts_with()`, `ends_with()`, `contains()`, `everything()`.\n",
    "\n",
    "#### Examples"
   ]
  },
  {
   "cell_type": "code",
   "execution_count": null,
   "id": "select-examples",
   "metadata": {},
   "outputs": [],
   "source": [
    "# Select specific columns\n",
    "selected_columns <- penguins %>%\n",
    "  select(species, island, body_mass_g)\n",
    "head(selected_columns)\n",
    "\n",
    "# Remove the 'year' column\n",
    "without_year <- penguins %>%\n",
    "  select(-year)\n",
    "head(without_year)\n",
    "\n",
    "# Select columns that start with 'bill'\n",
    "bill_columns <- penguins %>%\n",
    "  select(starts_with(\"bill\"))\n",
    "head(bill_columns)"
   ]
  },
  {
   "cell_type": "markdown",
   "id": "exercise2",
   "metadata": {},
   "source": [
    "#### Exercise 2: Selecting Columns\n",
    "\n",
    "**Task**: Create a new dataframe that includes only the `species`, `island`, `sex`, and all columns that contain the word `length`.\n",
    "\n",
    "##### Your Code Here"
   ]
  },
  {
   "cell_type": "code",
   "execution_count": null,
   "id": "exercise2-code",
   "metadata": {},
   "outputs": [],
   "source": [
    "# Your code here"
   ]
  },
  {
   "cell_type": "markdown",
   "id": "exercise2-hint",
   "metadata": {},
   "source": [
    "<details>\n",
    "<summary><strong>Hint:</strong> Click to expand</summary>\n",
    "\n",
    "- Use `select()` with column names and `contains(\"length\")`.\n",
    "\n",
    "</details>"
   ]
  },
  {
   "cell_type": "markdown",
   "id": "exercise2-solution",
   "metadata": {},
   "source": [
    "<details>\n",
    "<summary><strong>Solution:</strong> Click to expand</summary>\n",
    "\n",
    "```R\n",
    "# Solution\n",
    "length_data <- penguins %>%\n",
    "  select(species, island, sex, contains(\"length\"))\n",
    "head(length_data)\n",
    "```\n",
    "\n",
    "</details>"
   ]
  },
  {
   "cell_type": "markdown",
   "id": "arrange",
   "metadata": {},
   "source": [
    "### 3.3 `arrange()`: Sorting Data\n",
    "\n",
    "`arrange()` helps you sort your data based on one or more columns:\n",
    "- Use `desc()` for descending order.\n",
    "- Can sort by multiple columns.\n",
    "- Missing values (`NA`) are placed at the end.\n",
    "\n",
    "#### Examples"
   ]
  },
  {
   "cell_type": "code",
   "execution_count": null,
   "id": "arrange-examples",
   "metadata": {},
   "outputs": [],
   "source": [
    "# Sort by body mass in ascending order\n",
    "sorted_mass <- penguins %>%\n",
    "  arrange(body_mass_g)\n",
    "head(sorted_mass)\n",
    "\n",
    "# Sort by body mass in descending order\n",
    "sorted_mass_desc <- penguins %>%\n",
    "  arrange(desc(body_mass_g))\n",
    "head(sorted_mass_desc)\n",
    "\n",
    "# Sort by species and then by bill length\n",
    "sorted_species_bill <- penguins %>%\n",
    "  arrange(species, bill_length_mm)\n",
    "head(sorted_species_bill)"
   ]
  },
  {
   "cell_type": "markdown",
   "id": "exercise3",
   "metadata": {},
   "source": [
    "#### Exercise 3: Arranging Data\n",
    "\n",
    "**Task**: Arrange the penguins dataset to find the top 5 penguins with the longest flipper length. Display their `species`, `island`, `flipper_length_mm`, and `body_mass_g`.\n",
    "\n",
    "##### Your Code Here"
   ]
  },
  {
   "cell_type": "code",
   "execution_count": null,
   "id": "exercise3-code",
   "metadata": {},
   "outputs": [],
   "source": [
    "# Your code here"
   ]
  },
  {
   "cell_type": "markdown",
   "id": "exercise3-hint",
   "metadata": {},
   "source": [
    "<details>\n",
    "<summary><strong>Hint:</strong> Click to expand</summary>\n",
    "\n",
    "- Use `arrange(desc(flipper_length_mm))` to sort in descending order.\n",
    "- Use `head()` to get the top 5 rows.\n",
    "- Use `select()` to choose the desired columns.\n",
    "\n",
    "</details>"
   ]
  },
  {
   "cell_type": "markdown",
   "id": "exercise3-solution",
   "metadata": {},
   "source": [
    "<details>\n",
    "<summary><strong>Solution:</strong> Click to expand</summary>\n",
    "\n",
    "```R\n",
    "# Solution\n",
    "top_flipper <- penguins %>%\n",
    "  arrange(desc(flipper_length_mm)) %>%\n",
    "  select(species, island, flipper_length_mm, body_mass_g) %>%\n",
    "  head(5)\n",
    "top_flipper\n",
    "```\n",
    "\n",
    "</details>"
   ]
  },
  {
   "cell_type": "markdown",
   "id": "mutate",
   "metadata": {},
   "source": [
    "### 3.4 `mutate()`: Creating New Variables\n",
    "\n",
    "`mutate()` allows you to:\n",
    "- Create new columns based on calculations.\n",
    "- Modify existing columns.\n",
    "- Create multiple columns at once.\n",
    "\n",
    "#### Examples"
   ]
  },
  {
   "cell_type": "code",
   "execution_count": null,
   "id": "mutate-examples",
   "metadata": {},
   "outputs": [],
   "source": [
    "# Add new columns with calculations\n",
    "penguins_mutated <- penguins %>%\n",
    "  mutate(\n",
    "    body_mass_kg = body_mass_g / 1000,\n",
    "    bill_ratio = bill_length_mm / bill_depth_mm\n",
    "  )\n",
    "head(penguins_mutated)"
   ]
  },
  {
   "cell_type": "markdown",
   "id": "exercise4",
   "metadata": {},
   "source": [
    "#### Exercise 4: Mutating Data\n",
    "\n",
    "**Task**: Create a new column called `flipper_length_cm` by converting `flipper_length_mm` to centimeters. Then, select `species`, `flipper_length_mm`, and `flipper_length_cm`.\n",
    "\n",
    "##### Your Code Here"
   ]
  },
  {
   "cell_type": "code",
   "execution_count": null,
   "id": "exercise4-code",
   "metadata": {},
   "outputs": [],
   "source": [
    "# Your code here"
   ]
  },
  {
   "cell_type": "markdown",
   "id": "exercise4-hint",
   "metadata": {},
   "source": [
    "<details>\n",
    "<summary><strong>Hint:</strong> Click to expand</summary>\n",
    "\n",
    "- Use `mutate(flipper_length_cm = flipper_length_mm / 10)`.\n",
    "- Use `select()` to choose the desired columns.\n",
    "\n",
    "</details>"
   ]
  },
  {
   "cell_type": "markdown",
   "id": "exercise4-solution",
   "metadata": {},
   "source": [
    "<details>\n",
    "<summary><strong>Solution:</strong> Click to expand</summary>\n",
    "\n",
    "```R\n",
    "# Solution\n",
    "penguins_cm <- penguins %>%\n",
    "  mutate(flipper_length_cm = flipper_length_mm / 10) %>%\n",
    "  select(species, flipper_length_mm, flipper_length_cm)\n",
    "head(penguins_cm)\n",
    "```\n",
    "\n",
    "</details>"
   ]
  },
  {
   "cell_type": "markdown",
   "id": "summarize",
   "metadata": {},
   "source": [
    "### 3.5 `summarize()`: Calculating Summary Statistics\n",
    "\n",
    "`summarize()` (or `summarise()`) helps you:\n",
    "- Calculate summary statistics.\n",
    "- Reduce multiple values down to a single value.\n",
    "- Often used with `group_by()` for group-wise calculations.\n",
    "\n",
    "#### Examples"
   ]
  },
  {
   "cell_type": "code",
   "execution_count": null,
   "id": "summarize-examples",
   "metadata": {},
   "outputs": [],
   "source": [
    "# Overall summary statistics\n",
    "overall_summary <- penguins %>%\n",
    "  summarize(\n",
    "    count = n(),\n",
    "    avg_mass = mean(body_mass_g, na.rm = TRUE),\n",
    "    sd_mass = sd(body_mass_g, na.rm = TRUE)\n",
    "  )\n",
    "overall_summary\n",
    "\n",
    "# Summary statistics by species\n",
    "species_summary <- penguins %>%\n",
    "  group_by(species) %>%\n",
    "  summarize(\n",
    "    count = n(),\n",
    "    avg_mass = mean(body_mass_g, na.rm = TRUE),\n",
    "    sd_mass = sd(body_mass_g, na.rm = TRUE)\n",
    "  )\n",
    "species_summary"
   ]
  },
  {
   "cell_type": "markdown",
   "id": "group_by",
   "metadata": {},
   "source": [
    "### 3.6 `group_by()`: Grouping Data\n",
    "\n",
    "`group_by()` is often used with `summarize()` or `mutate()` to:\n",
    "- Perform operations by group.\n",
    "- Calculate group-wise statistics.\n",
    "- Create group-specific calculations.\n",
    "\n",
    "Think of it as saying \"do this calculation separately for each group.\"\n",
    "\n",
    "#### Example"
   ]
  },
  {
   "cell_type": "code",
   "execution_count": null,
   "id": "group-by-examples",
   "metadata": {},
   "outputs": [],
   "source": [
    "# Calculate average body mass by species and sex\n",
    "mass_by_species_sex <- penguins %>%\n",
    "  group_by(species, sex) %>%\n",
    "  summarize(\n",
    "    avg_body_mass = mean(body_mass_g, na.rm = TRUE),\n",
    "    count = n()\n",
    "  )\n",
    "mass_by_species_sex"
   ]
  },
  {
   "cell_type": "markdown",
   "id": "exercise5",
   "metadata": {},
   "source": [
    "#### Exercise 5: Grouping and Summarizing\n",
    "\n",
    "**Task**: For each island, calculate the average `bill_length_mm` and the number of penguins observed.\n",
    "\n",
    "##### Your Code Here"
   ]
  },
  {
   "cell_type": "code",
   "execution_count": null,
   "id": "exercise5-code",
   "metadata": {},
   "outputs": [],
   "source": [
    "# Your code here"
   ]
  },
  {
   "cell_type": "markdown",
   "id": "exercise5-hint",
   "metadata": {},
   "source": [
    "<details>\n",
    "<summary><strong>Hint:</strong> Click to expand</summary>\n",
    "\n",
    "- Use `group_by(island)`.\n",
    "- Use `summarize(avg_bill_length = mean(bill_length_mm, na.rm = TRUE), count = n())`.\n",
    "\n",
    "</details>"
   ]
  },
  {
   "cell_type": "markdown",
   "id": "exercise5-solution",
   "metadata": {},
   "source": [
    "<details>\n",
    "<summary><strong>Solution:</strong> Click to expand</summary>\n",
    "\n",
    "```R\n",
    "# Solution\n",
    "island_summary <- penguins %>%\n",
    "  group_by(island) %>%\n",
    "  summarize(\n",
    "    avg_bill_length = mean(bill_length_mm, na.rm = TRUE),\n",
    "    count = n()\n",
    "  )\n",
    "island_summary\n",
    "```\n",
    "\n",
    "</details>"
   ]
  },
  {
   "cell_type": "markdown",
   "id": "combining-functions",
   "metadata": {},
   "source": [
    "## 4. Combining Multiple dplyr Functions\n",
    "\n",
    "One of the most powerful aspects of `dplyr` is the ability to combine multiple functions using pipes (`%>%`). This allows you to:\n",
    "- Perform complex data manipulation step by step.\n",
    "- Keep your code readable and logical.\n",
    "- Build up analysis in a clear sequence.\n",
    "\n",
    "### Example: Finding the Largest Penguins by Species\n",
    "\n",
    "**Task**: Find the top 3 heaviest penguins for each species and display their `species`, `island`, `sex`, and `body_mass_g`.\n",
    "\n",
    "#### Solution"
   ]
  },
  {
   "cell_type": "code",
   "execution_count": null,
   "id": "combining-functions-example",
   "metadata": {},
   "outputs": [],
   "source": [
    "# Find top 3 heaviest penguins by species\n",
    "top_penguins <- penguins %>%\n",
    "  drop_na(body_mass_g) %>%\n",
    "  group_by(species) %>%\n",
    "  arrange(desc(body_mass_g)) %>%\n",
    "  slice_head(n = 3) %>%\n",
    "  select(species, island, sex, body_mass_g)\n",
    "top_penguins"
   ]
  },
  {
   "cell_type": "markdown",
   "id": "reading-writing-data",
   "metadata": {},
   "source": [
    "## 5. Reading and Writing Data with `readr`\n",
    "\n",
    "The `readr` package (part of the tidyverse) provides functions to read and write data efficiently.\n",
    "\n",
    "### Reading Data\n",
    "- `read_csv()`: Reads comma-separated files.\n",
    "- `read_tsv()`: Reads tab-separated files.\n",
    "\n",
    "### Writing Data\n",
    "- `write_csv()`: Writes data to a CSV file.\n",
    "- `write_tsv()`: Writes data to a TSV file.\n",
    "\n",
    "#### Example: Writing and Reading Data"
   ]
  },
  {
   "cell_type": "code",
   "execution_count": null,
   "id": "read-write-example",
   "metadata": {},
   "outputs": [],
   "source": [
    "# Create a small dataset\n",
    "small_penguins <- penguins %>%\n",
    "  select(species, island, body_mass_g) %>%\n",
    "  head(10)\n",
    "\n",
    "# Write to CSV\n",
    "write_csv(small_penguins, \"small_penguins.csv\")\n",
    "\n",
    "# Read from CSV\n",
    "penguins_csv <- read_csv(\"small_penguins.csv\")\n",
    "penguins_csv"
   ]
  },
  {
   "cell_type": "markdown",
   "id": "genomic-data",
   "metadata": {},
   "source": [
    "## 6. Working with Genomic Data: The S. cerevisiae Genome\n",
    "\n",
    "In this section, we'll explore how to work with real-world genomic data using `dplyr`. We'll use the yeast genome file (GFF format), which is a tab-separated file containing information about genes and other features.\n",
    "\n",
    "### Steps to Work with GFF Files\n",
    "1. **Read the data**: Use `read_tsv()` to read the file, skipping comment lines.\n",
    "2. **Rename columns**: GFF files have nine standard columns.\n",
    "3. **Clean and manipulate data**: Use `dplyr` functions to explore and analyze the data.\n",
    "\n",
    "### Reading the GFF File"
   ]
  },
  {
   "cell_type": "code",
   "execution_count": null,
   "id": "read-gff",
   "metadata": {},
   "outputs": [],
   "source": [
    "# Read the GFF file\n",
    "yeast_genome <- read_tsv(\n",
    "  \"assets/data/saccharomyces_cerevisiae.gff\",\n",
    "  comment = \"#\",\n",
    "  col_names = FALSE\n",
    ")\n",
    "\n",
    "# Preview the data\n",
    "head(yeast_genome)"
   ]
  },
  {
   "cell_type": "markdown",
   "id": "rename-columns",
   "metadata": {},
   "source": [
    "### Renaming Columns\n",
    "\n",
    "GFF files have the following columns:\n",
    "1. `seqname`: Name of the chromosome or scaffold.\n",
    "2. `source`: Annotation source.\n",
    "3. `feature`: Feature type (e.g., gene, exon).\n",
    "4. `start`: Start position.\n",
    "5. `end`: End position.\n",
    "6. `score`: Score value.\n",
    "7. `strand`: Strand (`+` or `-`).\n",
    "8. `frame`: Frame or phase.\n",
    "9. `attribute`: Additional information.\n",
    "\n",
    "Let's rename these columns."
   ]
  },
  {
   "cell_type": "code",
   "execution_count": null,
   "id": "rename-code",
   "metadata": {},
   "outputs": [],
   "source": [
    "# Rename columns\n",
    "yeast_genome <- yeast_genome %>%\n",
    "  rename(\n",
    "    seqname = X1,\n",
    "    source = X2,\n",
    "    feature = X3,\n",
    "    start = X4,\n",
    "    end = X5,\n",
    "    score = X6,\n",
    "    strand = X7,\n",
    "    frame = X8,\n",
    "    attribute = X9\n",
    "  )\n",
    "\n",
    "# Preview the renamed data\n",
    "head(yeast_genome)"
   ]
  },
  {
   "cell_type": "markdown",
   "id": "explore-data",
   "metadata": {},
   "source": [
    "### Exploring the Data\n",
    "\n",
    "#### Counting Feature Types"
   ]
  },
  {
   "cell_type": "code",
   "execution_count": null,
   "id": "count-features",
   "metadata": {},
   "outputs": [],
   "source": [
    "# Count feature types\n",
    "yeast_genome %>%\n",
    "  count(feature, sort = TRUE)"
   ]
  },
  {
   "cell_type": "markdown",
   "id": "exercise-genomic",
   "metadata": {},
   "source": [
    "#### Exercise 6: Analyzing Genomic Data\n",
    "\n",
    "**Task**: Find the top 5 longest genes in the yeast genome. Display their `seqname`, `start`, `end`, `strand`, and `attribute`.\n",
    "\n",
    "##### Your Code Here"
   ]
  },
  {
   "cell_type": "code",
   "execution_count": null,
   "id": "exercise6-code",
   "metadata": {},
   "outputs": [],
   "source": [
    "# Your code here"
   ]
  },
  {
   "cell_type": "markdown",
   "id": "exercise6-hint",
   "metadata": {},
   "source": [
    "<details>\n",
    "<summary><strong>Hint:</strong> Click to expand</summary>\n",
    "\n",
    "- Filter for `feature == \"gene\"`.\n",
    "- Calculate gene length using `mutate(length = end - start + 1)`.\n",
    "- Arrange in descending order of `length`.\n",
    "- Use `head(5)` to get the top 5.\n",
    "- Select the desired columns.\n",
    "\n",
    "</details>"
   ]
  },
  {
   "cell_type": "markdown",
   "id": "exercise6-solution",
   "metadata": {},
   "source": [
    "<details>\n",
    "<summary><strong>Solution:</strong> Click to expand</summary>\n",
    "\n",
    "```R\n",
    "# Solution\n",
    "longest_genes <- yeast_genome %>%\n",
    "  filter(feature == \"gene\") %>%\n",
    "  mutate(length = end - start + 1) %>%\n",
    "  arrange(desc(length)) %>%\n",
    "  select(seqname, start, end, strand, attribute) %>%\n",
    "  head(5)\n",
    "longest_genes\n",
    "```\n",
    "\n",
    "</details>"
   ]
  },
  {
   "cell_type": "markdown",
   "id": "conclusion",
   "metadata": {},
   "source": [
    "## Conclusion\n",
    "\n",
    "In this module, we've explored the core functions of `dplyr` for data manipulation, learned about the pipe operator `%>%`, and applied these skills to both the Palmer Penguins dataset and real genomic data. Mastery of `dplyr` is essential for efficient and effective data analysis in R.\n",
    "\n",
    "---\n",
    "\n",
    "**Next Steps**:\n",
    "\n",
    "- Practice using `dplyr` with your own datasets.\n",
    "- Explore more advanced functions like `join` operations.\n",
    "- Learn about other tidyverse packages like `tidyr` for data reshaping.\n",
    "\n",
    "---"
   ]
  }
 ],
 "metadata": {},
 "nbformat": 4,
 "nbformat_minor": 5
}
