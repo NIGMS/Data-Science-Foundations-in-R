{
 "cells": [
  {
   "cell_type": "code",
   "execution_count": null,
   "id": "98e7ff3b-6e9c-4fad-a7d2-c68a75e22fce",
   "metadata": {},
   "outputs": [],
   "source": [
    "!pip install openai\n",
    "!pip install rpy2\n",
    "!pip install google-cloud-secret-manager"
   ]
  },
  {
   "cell_type": "code",
   "execution_count": null,
   "id": "a8f32d37-05b4-4d6d-82ea-3c0d9892f20d",
   "metadata": {},
   "outputs": [],
   "source": [
    "from IPython import get_ipython\n",
    "from IPython.display import Markdown, display"
   ]
  },
  {
   "cell_type": "code",
   "execution_count": null,
   "id": "05ea6adf-5e87-44b1-9996-81dd2226c950",
   "metadata": {},
   "outputs": [],
   "source": [
    "from google.cloud import secretmanager\n",
    "\n",
    "def access_secret_version(resource_name):\n",
    "    client = secretmanager.SecretManagerServiceClient()\n",
    "    response = client.access_secret_version(request={\"name\": resource_name})\n",
    "    return response.payload.data.decode(\"UTF-8\")\n",
    "\n",
    "# Your secret's resource name\n",
    "resource_name = \"projects/286751827882/secrets/openai_key/versions/1\"\n",
    "\n",
    "# Access the secret\n",
    "openai_key = access_secret_version(resource_name)\n",
    "\n"
   ]
  },
  {
   "cell_type": "code",
   "execution_count": null,
   "id": "e5874884-8e9a-44db-b929-e0bcb09a29e3",
   "metadata": {},
   "outputs": [],
   "source": [
    "from openai import OpenAI\n",
    "client = OpenAI(api_key=openai_key)"
   ]
  },
  {
   "cell_type": "code",
   "execution_count": null,
   "id": "50ee016a-b3e3-4f71-8191-5f52db57a193",
   "metadata": {},
   "outputs": [],
   "source": [
    "def explain(cell_number):\n",
    "    \"\"\"Return the content of the specified cell number.\"\"\"\n",
    "    ipython = get_ipython()  # Get the current IPython instance\n",
    "    \n",
    "    # Ensure the cell number is valid\n",
    "    if cell_number < len(ipython.user_ns['In']):\n",
    "        response = client.chat.completions.create(\n",
    "          model=\"gpt-4o-mini\",\n",
    "          messages=[\n",
    "        {\n",
    "            \"role\": \"system\",\n",
    "            \"content\": \"You are a helpful coding assitant providing advice to someone with limited coding experience. Please format your response in markdown \"\n",
    "        },\n",
    "        {\n",
    "          \"role\": \"user\",\n",
    "          \"content\": \"Please concisely comment this code to explain each line. Ignore the run cell magic and just focus on the R code \" + ipython.user_ns['In'][cell_number]\n",
    "        }\n",
    "      ],\n",
    "      temperature=1,\n",
    "      max_tokens=2204,\n",
    "      top_p=1,\n",
    "      frequency_penalty=0,\n",
    "      presence_penalty=0\n",
    "        )\n",
    "\n",
    "        #print(response.choices[0].message.content)\n",
    "        return display(Markdown(response.choices[0].message.content))\n",
    "        # Return the content of the cell\n",
    "        #return ipython.user_ns['In'][cell_number]\n",
    "    else:\n",
    "        # Error message for invalid cell number\n",
    "        return \"Cell number out of range.\"\n",
    "    \n",
    "\n",
    "    \n",
    "def modify(cell_number,modification):\n",
    "    \"\"\"Return the content of the specified cell number.\"\"\"\n",
    "    ipython = get_ipython()  # Get the current IPython instance\n",
    "    \n",
    "    # Ensure the cell number is valid\n",
    "    if cell_number < len(ipython.user_ns['In']):\n",
    "        response = client.chat.completions.create(\n",
    "          model=\"gpt-4o-mini\",\n",
    "          messages=[\n",
    "        {\n",
    "            \"role\": \"system\",\n",
    "            \"content\": \"You are a helpful coding assitant. Please only provide R code \"\n",
    "        },\n",
    "        {\n",
    "          \"role\": \"user\",\n",
    "          \"content\": \"Please modify this R code \" + ipython.user_ns['In'][cell_number] + \" to accomplish \" + modification + \"Ignore the run cell magic and just focus on the R code. All of the tidyverse libraries are already loaded. You do not need to load any libraries. Return only code.\" \n",
    "        },\n",
    "        {\n",
    "          \"role\": \"assistant\",\n",
    "          \"content\": \"top_downregulated_genes <- gene %>% \\n\\t filter(logFC < 0) %>% \\n\\t arrange(desc(adj.P.Val)) %>% \\n\\t slice_head(n = 5) \\n\\n # View the results \\n print(top_downregulated_genes)\" \n",
    "        }      \n",
    "      ],\n",
    "      temperature=1,\n",
    "      max_tokens=2204,\n",
    "      top_p=1,\n",
    "      frequency_penalty=0,\n",
    "      presence_penalty=0\n",
    "        )\n",
    "\n",
    "        #print(response.choices[0].message.content)\n",
    "        #return display(Markdown(response.choices[0].message.content))\n",
    "        #return create_new_cell(response.choices[0].message.content)\n",
    "        return create_new_cell(\"%%R\\n\\n\" + response.choices[0].message.content)\n",
    "\n",
    "        # Return the content of the cell\n",
    "        #return ipython.user_ns['In'][cell_number]\n",
    "    else:\n",
    "        # Error message for invalid cell number\n",
    "        return \"Cell number out of range.\"\n",
    "\n",
    "def propose(suggest):\n",
    "        response = client.chat.completions.create(\n",
    "          model=\"gpt-4o-mini\",\n",
    "          messages=[\n",
    "        {\n",
    "            \"role\": \"system\",\n",
    "            \"content\": \"You are a helpful coding assitant. Please only provide R code with no markdown\"\n",
    "        },\n",
    "        {\n",
    "          \"role\": \"user\",\n",
    "          \"content\": \"Please suggest R code to accomplish \" + suggest + \".  If possible always suggest tidyverse code. All of the tidyverse libraries are already loaded. You do not need to load any libraries. Return only code, do not use markdown.\" \n",
    "        },\n",
    "        {\n",
    "          \"role\": \"assistant\",\n",
    "          \"content\": \"top_downregulated_genes <- gene %>% \\n\\t filter(logFC < 0) %>% \\n\\t arrange(desc(adj.P.Val)) %>% \\n\\t slice_head(n = 5) \\n\\n # View the results \\n print(top_downregulated_genes)\" \n",
    "        }      \n",
    "      ],\n",
    "      temperature=1,\n",
    "      max_tokens=2204,\n",
    "      top_p=1,\n",
    "      frequency_penalty=0,\n",
    "      presence_penalty=0\n",
    "        )\n",
    "\n",
    "        #print(response.choices[0].message.content)\n",
    "        #return display(Markdown(response.choices[0].message.content))\n",
    "        return create_new_cell(\"%%R\\n\\n\" + response.choices[0].message.content)\n",
    "    \n",
    "def create_new_cell(contents):\n",
    "    shell = get_ipython()\n",
    "    shell.set_next_input(contents, replace=False)\n"
   ]
  },
  {
   "cell_type": "code",
   "execution_count": null,
   "id": "b4a5cfcb-9ce5-4078-bb67-f0efb0d6a36c",
   "metadata": {},
   "outputs": [],
   "source": [
    "%load_ext rpy2.ipython"
   ]
  },
  {
   "cell_type": "code",
   "execution_count": null,
   "id": "a6ec0696-fb7f-485a-ba2a-a6e7e38c8d82",
   "metadata": {},
   "outputs": [],
   "source": [
    "%%R\n",
    "\n",
    "install.packages(\"tidyverse\")\n",
    "install.packages(\"palmerpenguins\")\n",
    "install.packages(\"ggthemes\")\n",
    "library(tidyverse)\n",
    "\n",
    "library(palmerpenguins)\n",
    "library(ggthemes)"
   ]
  },
  {
   "cell_type": "code",
   "execution_count": null,
   "id": "028ed8cb-656d-4957-a12b-8d5c390d51eb",
   "metadata": {},
   "outputs": [],
   "source": [
    "%%R\n",
    "\n",
    "gene<-read_tsv('limma-voom_luminalpregnant-luminallactate')\n"
   ]
  },
  {
   "cell_type": "code",
   "execution_count": null,
   "id": "4919ef2a-9e4b-4095-921a-8d0470177454",
   "metadata": {},
   "outputs": [],
   "source": [
    "%%R\n",
    "\n",
    "top_upregulated_genes <- gene %>%\n",
    "  filter(logFC > 0) %>%\n",
    "  arrange(adj.P.Val) %>%\n",
    "  slice_head(n = 10)\n",
    "\n",
    "# View the results\n",
    "print(top_upregulated_genes)"
   ]
  },
  {
   "cell_type": "code",
   "execution_count": null,
   "id": "944af619-2694-4bc3-9e04-1bd71489a492",
   "metadata": {},
   "outputs": [],
   "source": [
    "explain(13)"
   ]
  },
  {
   "cell_type": "code",
   "execution_count": null,
   "id": "2f8b1038-03eb-4622-a100-c40a01d27730",
   "metadata": {},
   "outputs": [],
   "source": [
    "propose(\"I need to find the 25 most signficantly upregulated genes from a dataframe called gene. \\\n",
    "Here are the column names: ENTREZID, SYMBOL, GENENAME, logFC AveExpr, t, P.Value, adj.P.Val\")"
   ]
  },
  {
   "cell_type": "code",
   "execution_count": null,
   "id": "12d6ce62-9c3d-47f0-9c2b-3f26e19fa54b",
   "metadata": {},
   "outputs": [],
   "source": [
    "%%R\n",
    "\n",
    "top_upregulated_genes <- gene %>% \n",
    "  filter(logFC > 0) %>% \n",
    "  arrange(adj.P.Val) %>% \n",
    "  slice_head(n = 25) \n",
    "\n",
    "print(top_upregulated_genes)"
   ]
  },
  {
   "cell_type": "code",
   "execution_count": null,
   "id": "40536203-0f5b-4d1d-9e8b-dc2314e736af",
   "metadata": {},
   "outputs": [],
   "source": [
    "%%R\n",
    "\n",
    "top_upregulated_genes <- gene %>% \n",
    "  arrange(desc(logFC)) %>% \n",
    "  slice_head(n = 25) "
   ]
  },
  {
   "cell_type": "code",
   "execution_count": null,
   "id": "14586fab-5aa2-47e2-b13c-7533de03de92",
   "metadata": {},
   "outputs": [],
   "source": [
    "%%R\n",
    "\n",
    "ggplot(\n",
    "  data = penguins,\n",
    "  mapping = aes(x = flipper_length_mm, y = body_mass_g)\n",
    ") +\n",
    "  geom_point(aes(color = species, shape = species)) +\n",
    "  geom_smooth(method = \"lm\") +\n",
    "  labs(\n",
    "    title = \"Body mass and flipper length\",\n",
    "    subtitle = \"Dimensions for Adelie, Chinstrap, and Gentoo Penguins\",\n",
    "    x = \"Flipper length (mm)\", y = \"Body mass (g)\",\n",
    "    color = \"Species\", shape = \"Species\"\n",
    "  ) +\n",
    "  scale_color_colorblind() +\n",
    "  theme_gray(base_size = 12)"
   ]
  },
  {
   "cell_type": "code",
   "execution_count": null,
   "id": "313c18d8-70cb-4d81-a24d-4c52f3a177a3",
   "metadata": {},
   "outputs": [],
   "source": [
    "explain(15)"
   ]
  },
  {
   "cell_type": "code",
   "execution_count": null,
   "id": "03ee2e1b-1aaa-471d-831c-4bbb274aa59b",
   "metadata": {},
   "outputs": [],
   "source": [
    "modify(15,\"remove gentoo penguins from the graph as they are my least favorite penguin\")"
   ]
  },
  {
   "cell_type": "code",
   "execution_count": null,
   "id": "105432eb-d6a5-410a-8f85-c645622c60fb",
   "metadata": {},
   "outputs": [],
   "source": [
    "%%R\n",
    "\n",
    "\n",
    "ggplot(\n",
    "  data = penguins %>% filter(species != \"Gentoo\"),\n",
    "  mapping = aes(x = flipper_length_mm, y = body_mass_g)\n",
    ") +\n",
    "  geom_point(aes(color = species, shape = species)) +\n",
    "  geom_smooth(method = \"lm\") +\n",
    "  labs(\n",
    "    title = \"Body mass and flipper length\",\n",
    "    subtitle = \"Dimensions for Adelie and Chinstrap Penguins\",\n",
    "    x = \"Flipper length (mm)\", \n",
    "    y = \"Body mass (g)\",\n",
    "    color = \"Species\", \n",
    "    shape = \"Species\"\n",
    "  ) +\n",
    "  scale_color_colorblind() +\n",
    "  theme_gray(base_size = 12)\n"
   ]
  }
 ],
 "metadata": {},
 "nbformat": 4,
 "nbformat_minor": 5
}
