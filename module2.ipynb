{
 "cells": [
  {
   "cell_type": "markdown",
   "id": "0301ed56-7f2e-4deb-b0e0-e9e40b2b33b1",
   "metadata": {},
   "source": [
    "# Getting Started with ggplot2 in R: A Hands-on Tutorial\n",
    "\n",
    "------------------------\n",
    "\n",
    "Welcome to the ggplot2 module in our Data Analysis and Visualization series. In this module, we'll dive into the powerful `ggplot2` package for creating advanced visualizations in R.\n",
    "\n",
    "## Learning Objectives\n",
    "\n",
    "After completing this module, you will be able to:\n",
    "\n",
    "1. [Understand the Grammar of Graphics](#grammar)\n",
    "   - Explain the core components of ggplot2\n",
    "   - Understand the layered approach to building plots\n",
    "   - Differentiate between data, aesthetics, and geometrie\n",
    "3. [Work with Data Formats](#data-formats)\n",
    "   - Convert between wide and long data formats\n",
    "   - Understand why ggplot2 prefers long format\n",
    "   - Prepare your data for effective visualization\n",
    "4. [Create Basic Plots](#basic-plots)\n",
    "   - Build scatter plots, line plots, and bar charts\n",
    "   - Map variables to visual elements (color, size, shape)\n",
    "   - Add trend lines and statistical summaries\n",
    "5. [Customize Visualizations](#customization)\n",
    "   - Apply and modify themes\n",
    "   - Control plot dimensions and resolution\n",
    "   - Adjust scales and legends\n",
    "   - Create publication-ready graphics\n",
    "6. [Create Complex Visualizations](#complex-visualizations)\n",
    "   - Combine multiple geometries in one plot\n",
    "   - Create faceted (small multiple) plots\n",
    "   - Handle grouped data effectively\n",
    "   - Build multi-panel figures\n",
    "7. [Best Practices](#best-practices)\n",
    "   - Choose appropriate plot types for different data\n",
    "   - Ensure readability and accessibility\n",
    "   - Follow visualization best practices\n",
    "   - Format plots for different contexts (presentation, publication)\n",
    "8. [Practical Exercises](#exercises)\n",
    "\n",
    "9. [Quiz](#quiz)\n",
    "\n",
    "---"
   ]
  },
  {
   "cell_type": "markdown",
   "id": "grammar",
   "metadata": {},
   "source": [
    "<a id='grammar'></a>\n",
    "## 1. Understanding the Grammar of Graphics\n",
    "\n",
    "### What is ggplot2?\n",
    "\n",
    "`ggplot2` is a data visualization package for the statistical programming language R. It is based on the Grammar of Graphics, which provides a coherent system for describing and building graphs. With `ggplot2`, you can create complex plots from data in a data frame.\n",
    "\n",
    "### Why ggplot2 for Scientific Visualization?\n",
    "\n",
    "`ggplot2` has become the go-to tool for scientific visualization in R for several compelling reasons:\n",
    "\n",
    "1. **Consistent Grammar**: Based on the \"Grammar of Graphics,\" `ggplot2` provides a coherent system for describing visualizations. Once you learn the basic principles, you can create virtually any type of plot using the same consistent syntax.\n",
    "\n",
    "2. **Publication-Ready Quality**: \n",
    "   - Produces high-quality graphics suitable for academic publications.\n",
    "   - Offers fine-grained control over every visual element.\n",
    "   - Supports proper scientific notation and mathematical expressions.\n",
    "   - Enables easy creation of multi-panel figures.\n",
    "\n",
    "3. **Statistical Integration**:\n",
    "   - Built-in statistical transformations.\n",
    "   - Easy addition of error bars, confidence intervals, and trend lines.\n",
    "   - Seamless integration with statistical models.\n",
    "\n",
    "4. **Reproducibility**:\n",
    "   - Code-based approach ensures reproducible figures.\n",
    "   - Easy to version control and share with collaborators.\n",
    "   - Consistent output across different platforms.\n",
    "\n",
    "### Core Components of ggplot2\n",
    "\n",
    "1. **Data**: The dataset being visualized.\n",
    "2. **Aesthetics (aes)**: Mappings from data to visual properties like x/y position, color, and size.\n",
    "3. **Geometries (geoms)**: The visual elements that represent data points (e.g., points, lines, bars).\n",
    "4. **Facets**: For creating small multiples of plots based on a factor variable.\n",
    "5. **Statistics**: Statistical transformations like smoothing or binning.\n",
    "6. **Coordinates**: Coordinate system (e.g., Cartesian, polar).\n",
    "7. **Themes**: Control non-data ink like backgrounds and gridlines.\n",
    "\n",
    "---"
   ]
  },
  {
   "cell_type": "markdown",
   "id": "resources",
   "metadata": {},
   "source": [
    "## Resources and Inspiration\n",
    "\n",
    "Here are some invaluable resources for your ggplot2 journey:\n",
    "\n",
    "1. **[The R Graph Gallery](https://r-graph-gallery.com/)**\n",
    "   - Comprehensive collection of R charts.\n",
    "   - Code examples for each visualization.\n",
    "   - Organized by chart type.\n",
    "   - Special sections for ggplot2 implementations.\n",
    "   \n",
    "2. **Finding Inspiration**:\n",
    "   - [ggplot2 Extensions Gallery](https://exts.ggplot2.tidyverse.org/gallery/)\n",
    "   - [Cedric Scherer's Gallery](https://www.cedricscherer.com/2019/08/05/a-ggplot2-tutorial-for-beautiful-plotting-in-r/)\n",
    "   - [Top 50 ggplot2 Visualizations](http://r-statistics.co/Top50-Ggplot2-Visualizations-MasterList-R-Code.html)\n",
    "\n",
    "---"
   ]
  },
  {
   "cell_type": "markdown",
   "id": "install-packages",
   "metadata": {},
   "source": [
    "<a id='data-formats'></a>\n",
    "## 2. Install Packages and Load Libraries\n",
    "\n",
    "Before we start, we need to install and load the necessary packages."
   ]
  },
  {
   "cell_type": "code",
   "execution_count": null,
   "id": "c5f88bb2-8c79-46e6-8a87-a6841700c004",
   "metadata": {},
   "outputs": [],
   "source": [
    "# Suppress warnings and messages\n",
    "options(warn=-1)  # Suppress warnings\n",
    "options(message=FALSE)  # Suppress messages\n",
    "\n",
    "# Install and load required packages\n",
    "if (!require(tidyverse)) install.packages(\"tidyverse\")\n",
    "if (!require(palmerpenguins)) install.packages(\"palmerpenguins\")\n",
    "if (!require(ggthemes)) install.packages(\"ggthemes\")\n",
    "\n",
    "# Load libraries\n",
    "library(tidyverse)\n",
    "library(palmerpenguins)\n",
    "library(ggthemes)\n",
    "\n",
    "# Load the dataset\n",
    "data(penguins)"
   ]
  },
  {
   "cell_type": "markdown",
   "id": "dataset-intro",
   "metadata": {},
   "source": [
    "<a id='basic-plots'></a>\n",
    "## 3. Understanding Our Data: The Palmer Penguins Dataset\n",
    "\n",
    "### Dataset Background\n",
    "\n",
    "The Palmer Penguins dataset comes from Dr. Kristen Gorman and colleagues' research at Palmer Station, Antarctica. It includes measurements from three penguin species observed on three islands in the Palmer Archipelago between 2007 and 2009.\n",
    "\n",
    "The dataset is an excellent alternative to the commonly used iris dataset for data visualization and analysis because:\n",
    "- It features real-world measurements.\n",
    "- Contains categorical and numerical variables.\n",
    "- Includes missing values (common in real research).\n",
    "- Tells an engaging story about ecological research.\n",
    "\n",
    "### Dataset Structure\n",
    "\n",
    "Let's examine our data:"
   ]
  },
  {
   "cell_type": "code",
   "execution_count": null,
   "id": "5e5b3fe4-a463-45f6-8dcc-9a637cd4d8c8",
   "metadata": {},
   "outputs": [],
   "source": [
    "# Look at the first few rows\n",
    "head(penguins)\n"
   ]
  },
  {
   "cell_type": "code",
   "execution_count": null,
   "id": "8e3f152f-a5c7-42d0-a91c-2f782610fef5",
   "metadata": {},
   "outputs": [],
   "source": [
    "# Get a summary of the data\n",
    "summary(penguins)"
   ]
  },
  {
   "cell_type": "markdown",
   "id": "variables",
   "metadata": {},
   "source": [
    "### Variables in the Dataset\n",
    "\n",
    "Our dataset contains the following variables:\n",
    "\n",
    "**Categorical Variables:**\n",
    "- `species`: Penguin species (Adelie, Chinstrap, Gentoo).\n",
    "- `island`: Location where observed (Biscoe, Dream, or Torgersen).\n",
    "- `sex`: Sex of the penguin (female, male).\n",
    "\n",
    "**Numerical Variables:**\n",
    "- `bill_length_mm`: Length of the bill in millimeters.\n",
    "- `bill_depth_mm`: Depth of the bill in millimeters.\n",
    "- `flipper_length_mm`: Length of the flipper in millimeters.\n",
    "- `body_mass_g`: Body mass in grams.\n",
    "- `year`: Year of observation (2007, 2008, 2009).\n",
    "\n",
    "---"
   ]
  },
  {
   "cell_type": "markdown",
   "id": "data-format",
   "metadata": {},
   "source": [
    "<a id='data-formats'></a>\n",
    "## 4. Understanding Data Format for ggplot2: From Excel to R\n",
    "\n",
    "### The Excel Way (Wide Format)\n",
    "\n",
    "Most people store their data like a typical spreadsheet. Let's look at a simple example of student test scores across different months:\n",
    "\n",
    "Think of how you'd typically see this in Excel:"
   ]
  },
  {
   "cell_type": "code",
   "execution_count": null,
   "id": "27702cce-a81a-4a28-a89c-05ceab0c3ae7",
   "metadata": {},
   "outputs": [],
   "source": [
    "# Create an Excel-like dataframe\n",
    "wide_scores <- data.frame(\n",
    "    Student = c(\"Alice\", \"Bob\", \"Charlie\"),\n",
    "    January = c(85, 92, 78),\n",
    "    February = c(88, 95, 82),\n",
    "    March = c(90, 88, 85)\n",
    ")\n",
    "\n",
    "# Show the Excel-style (wide) format\n",
    "wide_scores"
   ]
  },
  {
   "cell_type": "markdown",
   "id": "why-long-format",
   "metadata": {},
   "source": [
    "This format is intuitive for viewing and data entry - each student has one row, and their scores are spread across columns by month.\n",
    "\n",
    "### Why ggplot2 Needs a Different Format\n",
    "\n",
    "Imagine you want to create a plot showing how scores change over time. With this format, you'd need to answer:\n",
    "- What goes on the x-axis?\n",
    "- What goes on the y-axis?\n",
    "- How do you tell ggplot which columns are the months?\n",
    "\n",
    "ggplot2 works best when your data has:\n",
    "1. One column for the thing you're measuring (scores).\n",
    "2. One column for when you measured it (month).\n",
    "3. One column for who you measured it from (student).\n",
    "\n",
    "Let's see how this looks:"
   ]
  },
  {
   "cell_type": "code",
   "execution_count": null,
   "id": "f65ef63b-27c7-401d-9b95-51367c0f294a",
   "metadata": {},
   "outputs": [],
   "source": [
    "# Convert to the format ggplot2 prefers\n",
    "long_scores <- wide_scores %>%\n",
    "    pivot_longer(\n",
    "        cols = January:March,\n",
    "        names_to = \"Month\",\n",
    "        values_to = \"Score\"\n",
    "    )\n",
    "\n",
    "# Show the ggplot2-friendly (long) format\n",
    "long_scores"
   ]
  },
  {
   "cell_type": "markdown",
   "id": "long-format-benefits",
   "metadata": {},
   "source": [
    "Now each row represents one score for one student in one month. This might look repetitive, but it makes plotting much easier because:\n",
    "1. Every measurement has its own row.\n",
    "2. Each column represents a single type of information.\n",
    "\n",
    "### Key Points to Remember:\n",
    "\n",
    "1. **Excel Format (Wide)**\n",
    "   - Each row is one entity (one student, one city).\n",
    "   - Measurements spread across columns.\n",
    "   - Easy for data entry.\n",
    "   - Good for viewing individual records.\n",
    "\n",
    "2. **ggplot2 Format (Long)**\n",
    "   - Each row is one measurement.\n",
    "   - Clear columns for:\n",
    "     - What you measured (scores, temperature).\n",
    "     - When/where you measured it (month, time of day).\n",
    "     - Who/what you measured it from (student, city).\n",
    "   - Perfect for visualization.\n",
    "   - Makes it easy to:\n",
    "     - Compare across categories.\n",
    "     - Show changes over time.\n",
    "     - Group by different variables.\n",
    "\n",
    "---"
   ]
  },
  {
   "cell_type": "markdown",
   "id": "first-example",
   "metadata": {},
   "source": [
    "<a id='basic-plots'></a>\n",
    "## 5. Let's Start with a Simple Example\n",
    "\n",
    "Before diving deep into ggplot2, let's create a basic visualization to see the power of the grammar of graphics approach. We'll use the Palmer Penguins dataset, which contains measurements from three penguin species.\n",
    "\n",
    "Below, we'll create a scatter plot showing the relationship between flipper length and body mass of penguins."
   ]
  },
  {
   "cell_type": "code",
   "execution_count": null,
   "id": "258c9196-b6d1-4e6e-95cd-2bfe4ce7b15b",
   "metadata": {},
   "outputs": [],
   "source": [
    "# Create our first plot\n",
    "ggplot(penguins, \n",
    "       aes(x = flipper_length_mm, \n",
    "           y = body_mass_g, \n",
    "           color = species)) +\n",
    "  geom_point(alpha = 0.7) +\n",
    "  theme_minimal() +\n",
    "  labs(title = \"Penguin Size Measurements\",\n",
    "       x = \"Flipper Length (mm)\",\n",
    "       y = \"Body Mass (g)\",\n",
    "       color = \"Species\")"
   ]
  },
  {
   "cell_type": "markdown",
   "id": "plot-explanation",
   "metadata": {},
   "source": [
    "This first visualization already shows us several key features of ggplot2:\n",
    "- **Clear mapping of variables to visual elements**: x-axis, y-axis, color.\n",
    "- **Automatic legend creation**: ggplot2 adds a legend based on the aesthetics.\n",
    "- **Built-in themes for professional appearance**: `theme_minimal()` provides a clean look.\n",
    "- **Proper handling of missing values**: ggplot2 handles `NA` values gracefully.\n",
    "- **Automatic scaling of axes**: Scales are adjusted based on the data range.\n",
    "\n",
    "---"
   ]
  },
  {
   "cell_type": "markdown",
   "id": "ggplot2-basics",
   "metadata": {},
   "source": [
    "<a id='customization'></a>\n",
    "## 6. Understanding ggplot2 Basics\n",
    "\n",
    "### The Grammar of Graphics\n",
    "\n",
    "ggplot2 is based on the \"Grammar of Graphics,\" which breaks down every visualization into basic components. Think of it like building with LEGO blocks—you start with a base and add pieces one by one.\n",
    "\n",
    "### Building Plots Layer by Layer\n",
    "\n",
    "One of ggplot2's most powerful features is the ability to add layers. Each layer adds new information or visual elements to your plot. Let's build up a plot step by step."
   ]
  },
  {
   "cell_type": "code",
   "execution_count": null,
   "id": "building-layers",
   "metadata": {},
   "outputs": [],
   "source": [
    "# Start with basic scatter plot\n",
    "p1 <- ggplot(penguins, aes(x = flipper_length_mm, y = body_mass_g)) +\n",
    "  geom_point()\n",
    "\n",
    "# Add color by species\n",
    "p2 <- p1 + geom_point(aes(color = species))\n",
    "\n",
    "# Add trend line\n",
    "p3 <- p2 + geom_smooth(formula = y ~ x, method = \"lm\")\n",
    "\n",
    "# Display the plots\n",
    "p1\n",
    "p2\n",
    "p3"
   ]
  },
  {
   "cell_type": "markdown",
   "id": "aes-explanation",
   "metadata": {},
   "source": [
    "### Understanding Aesthetics (aes)\n",
    "\n",
    "Aesthetics are the visual properties of your plot. Common aesthetics include:\n",
    "\n",
    "- `x`: x-axis position.\n",
    "- `y`: y-axis position.\n",
    "- `color`: point or line color.\n",
    "- `fill`: fill color for areas.\n",
    "- `size`: size of points.\n",
    "- `shape`: shape of points.\n",
    "- `alpha`: transparency.\n",
    "\n",
    "You can set aesthetics in two ways:\n",
    "1. **Map them to variables** (inside `aes()`): Dynamic, changes based on data.\n",
    "2. **Set them to fixed values** (outside `aes()`): Static, remains constant.\n",
    "\n",
    "#### Example: Mapping vs. Setting"
   ]
  },
  {
   "cell_type": "code",
   "execution_count": null,
   "id": "mapping-vs-setting",
   "metadata": {},
   "outputs": [],
   "source": [
    "# Mapping color to a variable\n",
    "p4 <- ggplot(penguins, aes(x = flipper_length_mm, y = body_mass_g)) +\n",
    "  geom_point(aes(color = species))  # Color varies by species\n",
    "\n",
    "# Setting a fixed color\n",
    "p5 <- ggplot(penguins, aes(x = flipper_length_mm, y = body_mass_g)) +\n",
    "  geom_point(color = \"blue\")  # All points are blue\n",
    "\n",
    "# Display both plots\n",
    "p4\n",
    "p5"
   ]
  },
  {
   "cell_type": "markdown",
   "id": "practice-exercise",
   "metadata": {},
   "source": [
    "### Practice Exercise: Exploring Aesthetics\n",
    "\n",
    "Try creating your own plots by modifying the code below. Some ideas:\n",
    "1. Change which variables are on the x and y axes.\n",
    "2. Map different variables to color.\n",
    "3. Try using size or shape instead of color.\n",
    "4. Add a different type of geometry (like `geom_line()` or `geom_smooth()`).\n",
    "\n",
    "#### Template for Practice\n",
    "```r\n",
    "ggplot(penguins, aes(x = ___, y = ___)) +\n",
    "  geom_point(aes(color = ___))\n",
    "```"
   ]
  },
  {
   "cell_type": "markdown",
   "id": "exercise1",
   "metadata": {},
   "source": [
    "<a id='exercises'></a>\n",
    "## 7. Practical Exercises\n",
    "\n",
    "### Exercise 1: Exploring Aesthetics\n",
    "\n",
    "**Task**: Create a scatter plot of `bill_length_mm` vs. `bill_depth_mm`, colored by `species`. Add a linear trend line for each species.\n",
    "\n",
    "#### Your Code Here"
   ]
  },
  {
   "cell_type": "code",
   "execution_count": null,
   "id": "exercise1-code",
   "metadata": {},
   "outputs": [],
   "source": [
    "# Your code here"
   ]
  },
  {
   "cell_type": "markdown",
   "id": "exercise1-hint",
   "metadata": {},
   "source": [
    "<details>\n",
    "<summary><strong>Hint:</strong> Click to expand</summary>\n",
    "\n",
    "- Use `ggplot()` with `aes(x = bill_length_mm, y = bill_depth_mm)`.\n",
    "- Map `species` to `color` inside `aes()`.\n",
    "- Add `geom_point()` for the scatter plot.\n",
    "- Add `geom_smooth(method = \"lm\")` for the trend lines.\n",
    "\n",
    "</details>"
   ]
  },
  {
   "cell_type": "markdown",
   "id": "exercise1-solution",
   "metadata": {},
   "source": [
    "<details>\n",
    "<summary><strong>Solution:</strong> Click to expand</summary>\n",
    "\n",
    "```R\n",
    "# Solution\n",
    "ggplot(penguins, aes(x = bill_length_mm, y = bill_depth_mm, color = species)) +\n",
    "  geom_point() +\n",
    "  geom_smooth(method = \"lm\") +\n",
    "  labs(title = \"Bill Dimensions by Species\",\n",
    "       x = \"Bill Length (mm)\",\n",
    "       y = \"Bill Depth (mm)\",\n",
    "       color = \"Species\") +\n",
    "  theme_minimal()\n",
    "```\n",
    "\n",
    "</details>"
   ]
  },
  {
   "cell_type": "markdown",
   "id": "common-chart-types",
   "metadata": {},
   "source": [
    "<a id='complex-visualizations'></a>\n",
    "## 8. Common Chart Types in ggplot2\n",
    "\n",
    "Let's explore different types of visualizations and when to use them.\n",
    "\n",
    "### 1. Bar Charts\n",
    "\n",
    "Use bar charts when you want to:\n",
    "- Show counts of categorical variables.\n",
    "- Compare quantities across groups.\n",
    "- Display proportions."
   ]
  },
  {
   "cell_type": "code",
   "execution_count": null,
   "id": "bar-charts",
   "metadata": {},
   "outputs": [],
   "source": [
    "# Basic bar chart\n",
    "ggplot(penguins, aes(x = species)) +\n",
    "  geom_bar(fill = \"skyblue\") +\n",
    "  labs(title = \"Count of Penguins by Species\",\n",
    "       x = \"Species\",\n",
    "       y = \"Count\") +\n",
    "  theme_minimal()"
   ]
  },
  {
   "cell_type": "markdown",
   "id": "exercise2",
   "metadata": {},
   "source": [
    "### Exercise 2: Creating a Stacked Bar Chart\n",
    "\n",
    "**Task**: Create a stacked bar chart showing the count of penguins by `species`, filled by `island`.\n",
    "\n",
    "#### Your Code Here"
   ]
  },
  {
   "cell_type": "code",
   "execution_count": null,
   "id": "exercise2-code",
   "metadata": {},
   "outputs": [],
   "source": [
    "# Your code here"
   ]
  },
  {
   "cell_type": "markdown",
   "id": "exercise2-hint",
   "metadata": {},
   "source": [
    "<details>\n",
    "<summary><strong>Hint:</strong> Click to expand</summary>\n",
    "\n",
    "- Use `geom_bar()` with `aes(fill = island)`.\n",
    "- Map `species` to the x-axis.\n",
    "\n",
    "</details>"
   ]
  },
  {
   "cell_type": "markdown",
   "id": "exercise2-solution",
   "metadata": {},
   "source": [
    "<details>\n",
    "<summary><strong>Solution:</strong> Click to expand</summary>\n",
    "\n",
    "```R\n",
    "# Solution\n",
    "ggplot(penguins, aes(x = species, fill = island)) +\n",
    "  geom_bar() +\n",
    "  labs(title = \"Penguin Species by Island\",\n",
    "       x = \"Species\",\n",
    "       y = \"Count\",\n",
    "       fill = \"Island\") +\n",
    "  theme_minimal()\n",
    "```\n",
    "\n",
    "</details>"
   ]
  },
  {
   "cell_type": "markdown",
   "id": "boxplots-violins",
   "metadata": {},
   "source": [
    "### 2. Box Plots and Violin Plots\n",
    "\n",
    "Use these when you want to:\n",
    "- Show distribution of continuous data across categories.\n",
    "- Compare medians and spread.\n",
    "- Identify outliers."
   ]
  },
  {
   "cell_type": "code",
   "execution_count": null,
   "id": "boxplots",
   "metadata": {},
   "outputs": [],
   "source": [
    "# Box plot with points\n",
    "ggplot(penguins, aes(x = species, y = body_mass_g)) +\n",
    "  geom_boxplot(outlier.shape = NA) +\n",
    "  geom_jitter(width = 0.2, alpha = 0.5, color = \"blue\") +\n",
    "  labs(title = \"Body Mass by Species\",\n",
    "       x = \"Species\",\n",
    "       y = \"Body Mass (g)\") +\n",
    "  theme_minimal()"
   ]
  },
  {
   "cell_type": "markdown",
   "id": "exercise3",
   "metadata": {},
   "source": [
    "### Exercise 3: Creating a Violin Plot\n",
    "\n",
    "**Task**: Create a violin plot of `flipper_length_mm` for each `species`, filled by `species`.\n",
    "\n",
    "#### Your Code Here"
   ]
  },
  {
   "cell_type": "code",
   "execution_count": null,
   "id": "exercise3-code",
   "metadata": {},
   "outputs": [],
   "source": [
    "# Your code here"
   ]
  },
  {
   "cell_type": "markdown",
   "id": "exercise3-hint",
   "metadata": {},
   "source": [
    "<details>\n",
    "<summary><strong>Hint:</strong> Click to expand</summary>\n",
    "\n",
    "- Use `geom_violin()` with `aes(fill = species)`.\n",
    "- Map `species` to the x-axis and `flipper_length_mm` to the y-axis.\n",
    "\n",
    "</details>"
   ]
  },
  {
   "cell_type": "markdown",
   "id": "exercise3-solution",
   "metadata": {},
   "source": [
    "<details>\n",
    "<summary><strong>Solution:</strong> Click to expand</summary>\n",
    "\n",
    "```R\n",
    "# Solution\n",
    "ggplot(penguins, aes(x = species, y = flipper_length_mm, fill = species)) +\n",
    "  geom_violin(alpha = 0.5) +\n",
    "  labs(title = \"Flipper Length Distribution by Species\",\n",
    "       x = \"Species\",\n",
    "       y = \"Flipper Length (mm)\") +\n",
    "  theme_minimal()\n",
    "```\n",
    "\n",
    "</details>"
   ]
  },
  {
   "cell_type": "markdown",
   "id": "themes",
   "metadata": {},
   "source": [
    "<a id='best-practices'></a>\n",
    "## 9. Understanding Themes in ggplot2\n",
    "\n",
    "Themes control the non-data elements of your plot. This includes:\n",
    "- Background colors and grids.\n",
    "- Font sizes and types.\n",
    "- Line sizes and colors.\n",
    "- Spacing and margins.\n",
    "- Legend appearance and placement.\n",
    "\n",
    "### Built-in Themes\n",
    "\n",
    "ggplot2 comes with several built-in themes. Here are some commonly used ones:\n",
    "- `theme_gray()`: Default theme.\n",
    "- `theme_bw()`: Black and white theme.\n",
    "- `theme_minimal()`: Minimalistic theme.\n",
    "- `theme_classic()`: Classic theme with x and y axis lines.\n",
    "- `theme_void()`: A completely empty theme.\n",
    "\n",
    "### Applying a Theme\n",
    "\n",
    "You can apply a theme using the `+` operator."
   ]
  },
  {
   "cell_type": "code",
   "execution_count": null,
   "id": "apply-theme",
   "metadata": {},
   "outputs": [],
   "source": [
    "# Apply theme_bw()\n",
    "ggplot(penguins, aes(x = body_mass_g, fill = species)) +\n",
    "  geom_histogram(binwidth = 200) +\n",
    "  labs(title = \"Body Mass Distribution by Species\",\n",
    "       x = \"Body Mass (g)\",\n",
    "       y = \"Count\") +\n",
    "  theme_bw()"
   ]
  },
  {
   "cell_type": "markdown",
   "id": "custom-themes",
   "metadata": {},
   "source": [
    "### Customizing Themes\n",
    "\n",
    "You can modify specific elements of any theme using the `theme()` function. Common modifications include:\n",
    "\n",
    "- **Text elements**: `axis.title`, `plot.title`, `legend.title`.\n",
    "- **Grid lines**: `panel.grid.major`, `panel.grid.minor`.\n",
    "- **Background**: `panel.background`, `plot.background`.\n",
    "- **Legend position**: `legend.position`.\n",
    "\n",
    "#### Example: Customizing Text Elements"
   ]
  },
  {
   "cell_type": "code",
   "execution_count": null,
   "id": "customize-theme",
   "metadata": {},
   "outputs": [],
   "source": [
    "# Customize theme elements\n",
    "ggplot(penguins, aes(x = body_mass_g, fill = species)) +\n",
    "  geom_histogram(binwidth = 200) +\n",
    "  labs(title = \"Body Mass Distribution by Species\",\n",
    "       x = \"Body Mass (g)\",\n",
    "       y = \"Count\") +\n",
    "  theme_minimal() +\n",
    "  theme(\n",
    "    plot.title = element_text(face = \"bold\", size = 16, hjust = 0.5),\n",
    "    axis.title = element_text(size = 14),\n",
    "    axis.text = element_text(size = 12),\n",
    "    legend.position = \"top\"\n",
    "  )"
   ]
  },
  {
   "cell_type": "markdown",
   "id": "conclusion",
   "metadata": {},
   "source": [
    "<a id='quiz'></a>\n",
    "## 10. Conclusion\n",
    "\n",
    "In this module, we've explored the basics of ggplot2, learned about the importance of data formats, and practiced creating and customizing various types of plots. ggplot2 is a powerful tool that, once mastered, can greatly enhance your data visualization capabilities.\n",
    "\n",
    "---\n",
    "\n",
    "If you have any questions or need further clarification, feel free to reach out!\n",
    "\n",
    "---\n",
    "\n",
    "**Next Steps**:\n",
    "\n",
    "- Experiment with different datasets.\n",
    "- Explore more geoms and statistical transformations.\n",
    "- Learn about interactive plotting with packages like `plotly`.\n",
    "- Dive deeper into custom themes and ggplot2 extensions.\n",
    "\n",
    "---"
   ]
  }
 ],
 "metadata": {
  "kernelspec": {
   "display_name": "R (Local)",
   "language": "R",
   "name": "conda-env-r_base-r"
  },
  "language_info": {
   "codemirror_mode": "r",
   "file_extension": ".r",
   "mimetype": "text/x-r-source",
   "name": "R",
   "pygments_lexer": "r",
   "version": "4.3.3"
  }
 },
 "nbformat": 4,
 "nbformat_minor": 5
}
