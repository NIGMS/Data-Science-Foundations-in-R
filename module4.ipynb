{
 "cells": [
  {
   "cell_type": "markdown",
   "id": "introduction",
   "metadata": {},
   "source": [
    "# Getting Started with tidyr: Data Cleaning and Transformation\n",
    "\n",
    "------------------------\n",
    "\n",
    "Welcome to the tidyr module in our Data Analysis and Visualization series. In this module, we'll explore the `tidyr` package, which is essential for data cleaning and reshaping in R.\n",
    "\n",
    "## Learning Objectives\n",
    "\n",
    "After completing this module, you will be able to:\n",
    "\n",
    "1. [Understand the Importance of Tidy Data](#tidy-data)\n",
    "   - Explain what tidy data means\n",
    "   - Recognize untidy data formats\n",
    "\n",
    "2. [Use Key tidyr Functions](#key-functions)\n",
    "   - `pivot_longer()` and `pivot_wider()`\n",
    "   - `separate()` and `unite()`\n",
    "   - `drop_na()`, `fill()`, and `replace_na()`\n",
    "\n",
    "3. [Clean and Transform the WHO Dataset](#who-dataset)\n",
    "   - Handle messy column names\n",
    "   - Reshape data for analysis\n",
    "\n",
    "4. [Practical Exercises](#exercises)\n",
    "5. [Conclusion](#conclusion)\n",
    "\n",
    "---"
   ]
  },
  {
   "cell_type": "markdown",
   "id": "tidy-data",
   "metadata": {},
   "source": [
    "<a id='tidy-data'></a>\n",
    "## 1. Understanding Tidy Data\n",
    "\n",
    "### What is Tidy Data?\n",
    "\n",
    "In the context of data analysis, **tidy data** refers to a standard way of mapping the meaning of a dataset to its structure. According to Hadley Wickham's principles:\n",
    "\n",
    "1. **Each variable forms a column**\n",
    "2. **Each observation forms a row**\n",
    "3. **Each type of observational unit forms a table**\n",
    "\n",
    "Tidy data makes data analysis easier and more efficient because:\n",
    "\n",
    "- Tools like `ggplot2` and `dplyr` are designed to work with tidy data.\n",
    "- It reduces the cognitive load of understanding data structure.\n",
    "- It facilitates data cleaning, manipulation, and visualization.\n",
    "\n",
    "### Recognizing Untidy Data\n",
    "\n",
    "Common signs of untidy data include:\n",
    "\n",
    "- Column headers are values, not variable names.\n",
    "- Multiple variables are stored in one column.\n",
    "- Variables are stored in both rows and columns.\n",
    "- Multiple types of observational units are stored in the same table.\n",
    "- One observational unit is stored in multiple tables.\n",
    "\n",
    "---"
   ]
  },
  {
   "cell_type": "markdown",
   "id": "install-packages",
   "metadata": {},
   "source": [
    "<a id='key-functions'></a>\n",
    "## 2. Install Packages and Load Libraries\n",
    "\n",
    "Let's start by installing and loading the necessary packages."
   ]
  },
  {
   "cell_type": "code",
   "execution_count": null,
   "id": "load-packages",
   "metadata": {},
   "outputs": [],
   "source": [
    "# Suppress warnings and messages\n",
    "options(warn=-1)\n",
    "options(message=FALSE)  # Suppress messages\n",
    "\n",
    "# Install and load required packages\n",
    "if (!require(tidyverse)) install.packages(\"tidyverse\")\n",
    "\n",
    "# Load the tidyverse\n",
    "library(tidyverse)"
   ]
  },
  {
   "cell_type": "markdown",
   "id": "key-functions-overview",
   "metadata": {},
   "source": [
    "## 3. Key Functions in tidyr\n",
    "\n",
    "The `tidyr` package provides several functions to help tidy and reshape data. We'll focus on the most commonly used ones:\n",
    "\n",
    "1. **`pivot_longer()`**: Converts data from wide to long format.\n",
    "2. **`pivot_wider()`**: Converts data from long to wide format.\n",
    "3. **`separate()`**: Splits a single column into multiple columns.\n",
    "4. **`unite()`**: Combines multiple columns into one.\n",
    "5. **`drop_na()`**: Removes rows containing missing values.\n",
    "6. **`fill()`**: Fills missing values with the previous or next value.\n",
    "7. **`replace_na()`**: Replaces missing values with a specified value.\n",
    "\n",
    "Let's explore each of these functions with examples."
   ]
  },
  {
   "cell_type": "markdown",
   "id": "pivot-longer",
   "metadata": {},
   "source": [
    "### 3.1 `pivot_longer()`: Wide to Long Format\n",
    "\n",
    "**Purpose:**\n",
    "\n",
    "Use `pivot_longer()` when you have multiple columns that represent values of a variable, and you want to gather them into key-value pairs, resulting in fewer columns and more rows.\n",
    "\n",
    "**Understanding the Arguments:**\n",
    "\n",
    "- **`cols`**: The columns to pivot (i.e., the columns that contain the values you want to gather into rows).\n",
    "- **`names_to`**: The name of the new column that will contain the names of the original columns (i.e., the key).\n",
    "- **`values_to`**: The name of the new column that will contain the values from the original columns.\n",
    "\n",
    "**Example:** Converting student test scores from wide to long format."
   ]
  },
  {
   "cell_type": "code",
   "execution_count": null,
   "id": "pivot-longer-code",
   "metadata": {},
   "outputs": [],
   "source": [
    "# Sample wide data\n",
    "scores_wide <- data.frame(\n",
    "  student = c(\"Alice\", \"Bob\", \"Charlie\"),\n",
    "  math = c(85, 92, 78),\n",
    "  science = c(90, 88, 85),\n",
    "  history = c(88, 95, 82)\n",
    ")\n",
    "\n",
    "# View the wide data\n",
    "scores_wide"
   ]
  },
  {
   "cell_type": "markdown",
   "id": "pivot-longer-usage",
   "metadata": {},
   "source": [
    "#### Using `pivot_longer()`\n",
    "\n",
    "We want to reshape the data so that we have one row per student per subject, with a column indicating the subject and another column indicating the score.\n",
    "\n",
    "**Steps:**\n",
    "\n",
    "1. **Identify the columns to pivot**:\n",
    "   - In this case, the columns `math`, `science`, and `history` contain the scores for different subjects. These are the columns we want to gather into rows.\n",
    "2. **Decide on the names of the new columns**:\n",
    "   - `names_to = \"subject\"`: The names of the original columns (`math`, `science`, `history`) will become the values in a new column called `subject`.\n",
    "   - `values_to = \"score\"`: The values from the original columns will become the values in a new column called `score`."
   ]
  },
  {
   "cell_type": "code",
   "execution_count": null,
   "id": "pivot-longer-example",
   "metadata": {},
   "outputs": [],
   "source": [
    "# Convert to long format\n",
    "scores_long <- scores_wide %>%\n",
    "  pivot_longer(\n",
    "    cols = math:history,       # Columns to pivot\n",
    "    names_to = \"subject\",     # New column to hold the names of the original columns\n",
    "    values_to = \"score\"       # New column to hold the values from the original columns\n",
    "  )\n",
    "\n",
    "# View the long data\n",
    "scores_long"
   ]
  },
  {
   "cell_type": "markdown",
   "id": "pivot-longer-explanation",
   "metadata": {},
   "source": [
    "**Explanation:**\n",
    "\n",
    "- The `pivot_longer()` function takes the columns `math`, `science`, and `history` and gathers them into two new columns: `subject` and `score`.\n",
    "- Each student's scores for different subjects are now represented as separate rows.\n",
    "- The `student` column is repeated for each subject, maintaining the relationship between students and their scores."
   ]
  },
  {
   "cell_type": "markdown",
   "id": "pivot-wider",
   "metadata": {},
   "source": [
    "### 3.2 `pivot_wider()`: Long to Wide Format\n",
    "\n",
    "**Purpose:**\n",
    "\n",
    "Use `pivot_wider()` when you have observations that are scattered across multiple rows and you want to spread them into columns, resulting in more columns and fewer rows.\n",
    "\n",
    "**Understanding the Arguments:**\n",
    "\n",
    "- **`names_from`**: The column whose values will become the new column names.\n",
    "- **`values_from`**: The column whose values will fill the new columns.\n",
    "\n",
    "**Example:** Converting the long format back to wide format."
   ]
  },
  {
   "cell_type": "code",
   "execution_count": null,
   "id": "pivot-wider-code",
   "metadata": {},
   "outputs": [],
   "source": [
    "# Convert back to wide format\n",
    "scores_wide_again <- scores_long %>%\n",
    "  pivot_wider(\n",
    "    names_from = subject,    # The values in 'subject' become new column names\n",
    "    values_from = score      # The values in 'score' fill the new columns\n",
    "  )\n",
    "\n",
    "# View the wide data\n",
    "scores_wide_again"
   ]
  },
  {
   "cell_type": "markdown",
   "id": "pivot-wider-explanation",
   "metadata": {},
   "source": [
    "**Explanation:**\n",
    "\n",
    "- The `pivot_wider()` function takes the unique values from the `subject` column (`math`, `science`, `history`) and creates new columns with those names.\n",
    "- The corresponding `score` values are placed into these new columns.\n",
    "- The result is the original wide format, with one row per student and separate columns for each subject."
   ]
  },
  {
   "cell_type": "markdown",
   "id": "pivot-visualization",
   "metadata": {},
   "source": [
    "### Visual Representation\n",
    "\n",
    "#### Wide Format:\n",
    "\n",
    "| student  | math | science | history |\n",
    "|----------|------|---------|---------|\n",
    "| Alice    | 85   | 90      | 88      |\n",
    "| Bob      | 92   | 88      | 95      |\n",
    "| Charlie  | 78   | 85      | 82      |\n",
    "\n",
    "#### Long Format (after `pivot_longer()`):\n",
    "\n",
    "| student  | subject | score |\n",
    "|----------|---------|-------|\n",
    "| Alice    | math    | 85    |\n",
    "| Alice    | science | 90    |\n",
    "| Alice    | history | 88    |\n",
    "| Bob      | math    | 92    |\n",
    "| Bob      | science | 88    |\n",
    "| Bob      | history | 95    |\n",
    "| Charlie  | math    | 78    |\n",
    "| Charlie  | science | 85    |\n",
    "| Charlie  | history | 82    |"
   ]
  },
  {
   "cell_type": "markdown",
   "id": "separate",
   "metadata": {},
   "source": [
    "### 3.3 `separate()`: Splitting Columns\n",
    "\n",
    "**Purpose:**\n",
    "\n",
    "Use `separate()` to split a single column into multiple columns based on a separator or a specific position.\n",
    "\n",
    "**Understanding the Arguments:**\n",
    "\n",
    "- **`col`**: The column to separate.\n",
    "- **`into`**: The names of the new columns to create.\n",
    "- **`sep`**: The separator character or a regular expression. If not specified, `separate()` will try to guess.\n",
    "\n",
    "**Example:** Splitting a column with full names into first and last names."
   ]
  },
  {
   "cell_type": "code",
   "execution_count": null,
   "id": "separate-code",
   "metadata": {},
   "outputs": [],
   "source": [
    "# Sample data with full names\n",
    "names_data <- data.frame(\n",
    "  id = 1:3,\n",
    "  full_name = c(\"Alice Smith\", \"Bob Jones\", \"Charlie Brown\")\n",
    ")\n",
    "\n",
    "# View the data\n",
    "names_data"
   ]
  },
  {
   "cell_type": "markdown",
   "id": "separate-usage",
   "metadata": {},
   "source": [
    "#### Using `separate()`\n",
    "\n",
    "**Steps:**\n",
    "\n",
    "1. **Identify the column to separate**:\n",
    "   - The `full_name` column contains both first and last names.\n",
    "2. **Decide on the names of the new columns**:\n",
    "   - We want to create two new columns: `first_name` and `last_name`.\n",
    "3. **Specify the separator**:\n",
    "   - The names are separated by a space (`\" \"`), so we'll use that as the separator."
   ]
  },
  {
   "cell_type": "code",
   "execution_count": null,
   "id": "separate-example",
   "metadata": {},
   "outputs": [],
   "source": [
    "# Separate full_name into first_name and last_name\n",
    "names_separated <- names_data %>%\n",
    "  separate(\n",
    "    col = full_name,                    # Column to separate\n",
    "    into = c(\"first_name\", \"last_name\"), # New columns to create\n",
    "    sep = \" \"                           # Separator (space character)\n",
    "  )\n",
    "\n",
    "# View the separated data\n",
    "names_separated"
   ]
  },
  {
   "cell_type": "markdown",
   "id": "separate-explanation",
   "metadata": {},
   "source": [
    "**Explanation:**\n",
    "\n",
    "- The `separate()` function splits the `full_name` column into two new columns: `first_name` and `last_name`.\n",
    "- The separation occurs at the space character (`\" \"`), dividing the string into parts wherever the separator is found.\n",
    "- The original `full_name` column is replaced by the new columns."
   ]
  },
  {
   "cell_type": "markdown",
   "id": "unite",
   "metadata": {},
   "source": [
    "### 3.4 `unite()`: Combining Columns\n",
    "\n",
    "**Purpose:**\n",
    "\n",
    "Use `unite()` to combine multiple columns into a single column, often useful when you need to create composite keys or identifiers.\n",
    "\n",
    "**Understanding the Arguments:**\n",
    "\n",
    "- **`col`**: The name of the new column to create.\n",
    "- **`...`**: The columns to unite (can be column names or positions).\n",
    "- **`sep`**: The separator to use between values (default is \"_\").\n",
    "\n",
    "**Example:** Combining first and last names back into full names."
   ]
  },
  {
   "cell_type": "code",
   "execution_count": null,
   "id": "unite-code",
   "metadata": {},
   "outputs": [],
   "source": [
    "# Unite first_name and last_name into full_name\n",
    "names_united <- names_separated %>%\n",
    "  unite(\n",
    "    col = \"full_name\",         # Name of the new column\n",
    "    first_name, last_name,      # Columns to unite\n",
    "    sep = \" \"                  # Separator (space character)\n",
    "  )\n",
    "\n",
    "# View the united data\n",
    "names_united"
   ]
  },
  {
   "cell_type": "markdown",
   "id": "unite-explanation",
   "metadata": {},
   "source": [
    "**Explanation:**\n",
    "\n",
    "- The `unite()` function combines the `first_name` and `last_name` columns into a new column called `full_name`.\n",
    "- The values from the specified columns are concatenated with the separator (`\" \"`) between them.\n",
    "- The original columns (`first_name` and `last_name`) are removed by default and replaced by the new column."
   ]
  },
  {
   "cell_type": "markdown",
   "id": "missing-data",
   "metadata": {},
   "source": [
    "### 3.5 Handling Missing Data\n",
    "\n",
    "#### `drop_na()`: Removing Rows with Missing Values\n",
    "\n",
    "**Purpose:**\n",
    "\n",
    "Use `drop_na()` to remove rows from a data frame that contain missing values (`NA`).\n",
    "\n",
    "**Understanding the Arguments:**\n",
    "\n",
    "- **`cols`** (optional): Specify columns to check for missing values. If omitted, all columns are checked."
   ]
  },
  {
   "cell_type": "code",
   "execution_count": null,
   "id": "drop-na-code",
   "metadata": {},
   "outputs": [],
   "source": [
    "# Sample data with missing values\n",
    "data_with_na <- data.frame(\n",
    "  id = 1:5,\n",
    "  value = c(10, NA, 30, NA, 50)\n",
    ")\n",
    "\n",
    "# View the data\n",
    "data_with_na"
   ]
  },
  {
   "cell_type": "markdown",
   "id": "drop-na-usage",
   "metadata": {},
   "source": [
    "#### Using `drop_na()`\n",
    "\n",
    "**Steps:**\n",
    "\n",
    "- Since we want to remove any rows where the `value` column is `NA`, we'll use `drop_na()` without specifying columns.\n",
    "- This will check all columns for missing values and remove any rows that contain `NA`."
   ]
  },
  {
   "cell_type": "code",
   "execution_count": null,
   "id": "drop-na-example",
   "metadata": {},
   "outputs": [],
   "source": [
    "# Drop rows with missing values\n",
    "data_no_na <- data_with_na %>%\n",
    "  drop_na()\n",
    "\n",
    "# View the data without NAs\n",
    "data_no_na"
   ]
  },
  {
   "cell_type": "markdown",
   "id": "drop-na-explanation",
   "metadata": {},
   "source": [
    "**Explanation:**\n",
    "\n",
    "- The `drop_na()` function removes any rows that contain `NA` values in any column.\n",
    "- In this example, rows with `id` 2 and 4 are removed because they have missing values in the `value` column.\n",
    "- The resulting data frame contains only the rows with complete data."
   ]
  },
  {
   "cell_type": "markdown",
   "id": "fill",
   "metadata": {},
   "source": [
    "#### `fill()`: Filling Missing Values\n",
    "\n",
    "**Purpose:**\n",
    "\n",
    "Use `fill()` to fill missing values in a column using the last or next non-missing value, which is useful for propagating previous values forward or backward.\n",
    "\n",
    "**Understanding the Arguments:**\n",
    "\n",
    "- **`...`**: The columns to apply the fill to.\n",
    "- **`.direction`**: Direction to fill (`\"down\"`, `\"up\"`, `\"downup\"`, `\"updown\"`).\n",
    "\n",
    "**Example:** Filling missing group labels."
   ]
  },
  {
   "cell_type": "code",
   "execution_count": null,
   "id": "fill-code",
   "metadata": {},
   "outputs": [],
   "source": [
    "# Sample data with missing values\n",
    "data_to_fill <- data.frame(\n",
    "  id = 1:5,\n",
    "  group = c(\"A\", NA, NA, \"B\", NA)\n",
    ")\n",
    "\n",
    "# View the data\n",
    "data_to_fill"
   ]
  },
  {
   "cell_type": "markdown",
   "id": "fill-usage",
   "metadata": {},
   "source": [
    "#### Using `fill()`\n",
    "\n",
    "**Steps:**\n",
    "\n",
    "- We want to fill the missing values in the `group` column with the last known value.\n",
    "- We'll specify the column `group` and set `.direction = \"down\"` to fill downwards."
   ]
  },
  {
   "cell_type": "code",
   "execution_count": null,
   "id": "fill-example",
   "metadata": {},
   "outputs": [],
   "source": [
    "# Fill missing values\n",
    "data_filled <- data_to_fill %>%\n",
    "  fill(group, .direction = \"down\")\n",
    "\n",
    "# View the filled data\n",
    "data_filled"
   ]
  },
  {
   "cell_type": "markdown",
   "id": "fill-explanation",
   "metadata": {},
   "source": [
    "**Explanation:**\n",
    "\n",
    "- The `fill()` function takes the last known non-missing value in the `group` column and fills it into subsequent `NA` values.\n",
    "- For `id` 2 and 3, the missing `group` values are filled with `\"A\"`.\n",
    "- For `id` 5, the missing `group` value is filled with `\"B\"` from `id` 4."
   ]
  },
  {
   "cell_type": "markdown",
   "id": "replace-na",
   "metadata": {},
   "source": [
    "#### `replace_na()`: Replacing Missing Values\n",
    "\n",
    "**Purpose:**\n",
    "\n",
    "Use `replace_na()` to replace missing values with a specified value, which can be helpful when you want to impute missing data or set defaults.\n",
    "\n",
    "**Understanding the Arguments:**\n",
    "\n",
    "- **`replace`**: A named list of columns and the values to replace `NA` with."
   ]
  },
  {
   "cell_type": "code",
   "execution_count": null,
   "id": "replace-na-code",
   "metadata": {},
   "outputs": [],
   "source": [
    "# Replace missing values with zero\n",
    "data_replaced <- data_with_na %>%\n",
    "  replace_na(list(value = 0))\n",
    "\n",
    "# View the data with replaced NAs\n",
    "data_replaced"
   ]
  },
  {
   "cell_type": "markdown",
   "id": "replace-na-explanation",
   "metadata": {},
   "source": [
    "**Explanation:**\n",
    "\n",
    "- The `replace_na()` function replaces `NA` values in the `value` column with `0`.\n",
    "- Rows with `id` 2 and 4 now have `value` set to `0` instead of `NA`.\n",
    "- This can be useful when missing values represent zero or when you need to perform calculations without `NA` values."
   ]
  },
  {
   "cell_type": "markdown",
   "id": "who-dataset",
   "metadata": {},
   "source": [
    "<a id='who-dataset'></a>\n",
    "## 4. Cleaning and Transforming the WHO Dataset\n",
    "\n",
    "### Dataset Background\n",
    "\n",
    "We'll work with the World Health Organization (WHO) Tuberculosis (TB) data included in the `tidyr` package. This dataset is messy and requires significant cleaning before analysis.\n",
    "\n",
    "Let's load the dataset and take a look."
   ]
  },
  {
   "cell_type": "code",
   "execution_count": null,
   "id": "load-who-data",
   "metadata": {},
   "outputs": [],
   "source": [
    "# Load the WHO dataset\n",
    "who_data <- who\n",
    "\n",
    "# View the dataset\n",
    "print(who_data)"
   ]
  },
  {
   "cell_type": "markdown",
   "id": "who-data-structure",
   "metadata": {},
   "source": [
    "### Observations\n",
    "\n",
    "- The dataset has multiple columns that contain values rather than variable names.\n",
    "- The column names are not descriptive and contain information that should be in separate columns.\n",
    "- There are missing values (`NA`) scattered throughout the data.\n",
    "\n",
    "### Goal\n",
    "\n",
    "Our goal is to clean and reshape the data into a tidy format suitable for analysis."
   ]
  },
  {
   "cell_type": "markdown",
   "id": "who-data-cleaning",
   "metadata": {},
   "source": [
    "### 4.1 Reshaping the Data\n",
    "\n",
    "#### Step 1: Gather the Cases Columns\n",
    "\n",
    "The columns starting with `new_` represent new TB cases and contain values spread across multiple columns. We'll use `pivot_longer()` to gather these columns into key-value pairs.\n",
    "\n",
    "**Understanding the Arguments:**\n",
    "\n",
    "- **`cols = starts_with(\"new\")`**: We select all columns whose names start with `\"new\"`.\n",
    "- **`names_to = \"key\"`**: The names of the original columns will be stored in a new column called `key`.\n",
    "- **`values_to = \"cases\"`**: The values from the original columns will be stored in a new column called `cases`.\n",
    "- **`values_drop_na = TRUE`**: Rows with missing values in `cases` will be automatically removed."
   ]
  },
  {
   "cell_type": "code",
   "execution_count": null,
   "id": "who-pivot-longer",
   "metadata": {},
   "outputs": [],
   "source": [
    "# Gather the new cases columns\n",
    "who_long <- who_data %>%\n",
    "  pivot_longer(\n",
    "    cols = starts_with(\"new\"),   # Columns to pivot\n",
    "    names_to = \"key\",            # New column for the original column names\n",
    "    values_to = \"cases\",         # New column for the values\n",
    "    values_drop_na = TRUE         # Remove rows with NA in 'cases'\n",
    "  )\n",
    "\n",
    "# View the transformed data\n",
    "print(who_long)"
   ]
  },
  {
   "cell_type": "markdown",
   "id": "who-pivot-longer-explanation",
   "metadata": {},
   "source": [
    "**Explanation:**\n",
    "\n",
    "- The `pivot_longer()` function gathers all the columns that start with `\"new\"` into two new columns: `key` and `cases`.\n",
    "- Each row now represents a single observation for a country, year, and a specific type of TB case.\n",
    "- The `key` column contains encoded information about the type of TB cases (e.g., `\"new_sp_m014\"`), which we'll need to further process."
   ]
  },
  {
   "cell_type": "markdown",
   "id": "who-separate",
   "metadata": {},
   "source": [
    "#### Step 2: Separate the `key` Column\n",
    "\n",
    "The `key` column contains multiple pieces of information concatenated together. We need to separate this into meaningful variables.\n",
    "\n",
    "**Example of `key` values:**\n",
    "\n",
    "- `\"new_sp_m014\"` can be broken down into:\n",
    "  - `\"new\"`: Indicates new cases.\n",
    "  - `\"sp\"`: Type of TB case (e.g., sputum positive).\n",
    "  - `\"m014\"`: Demographic group (male aged 0-14).\n",
    "\n",
    "**Using `separate()`:**\n",
    "\n",
    "- **`col = key`**: We are separating the `key` column.\n",
    "- **`into = c(\"new\", \"type\", \"sexage\")`**: We split the `key` into three new columns.\n",
    "- **`sep = \"_\"`**: We use the underscore character as the separator."
   ]
  },
  {
   "cell_type": "code",
   "execution_count": null,
   "id": "who-separate-code",
   "metadata": {},
   "outputs": [],
   "source": [
    "# Separate the key column\n",
    "who_separated <- who_long %>%\n",
    "  separate(\n",
    "    col = key,                         # Column to separate\n",
    "    into = c(\"new\", \"type\", \"sexage\"), # New columns to create\n",
    "    sep = \"_\"                          # Separator (underscore)\n",
    "  )\n",
    "\n",
    "# View the separated data\n",
    "print(who_separated)"
   ]
  },
  {
   "cell_type": "markdown",
   "id": "who-separate-explanation",
   "metadata": {},
   "source": [
    "**Explanation:**\n",
    "\n",
    "- The `separate()` function splits the `key` column into three new columns: `new`, `type`, and `sexage`.\n",
    "- The separation occurs at each underscore (`\"_\"`) character in the `key` values.\n",
    "- The `new` column is redundant (since all values are \"new\"), and we can consider dropping it later."
   ]
  },
  {
   "cell_type": "markdown",
   "id": "who-extract",
   "metadata": {},
   "source": [
    "#### Step 3: Extract `sex` and `age` from `sexage`\n",
    "\n",
    "The `sexage` column combines both the sex and age group information. We'll extract these into separate columns.\n",
    "\n",
    "**Understanding the Data:**\n",
    "\n",
    "- The `sexage` values are formatted as `\"m014\"`, `\"f1524\"`, etc.\n",
    "- The first character represents sex (`\"m\"` for male, `\"f\"` for female).\n",
    "- The remaining characters represent the age group (e.g., `\"014\"` for ages 0-14).\n",
    "\n",
    "**Using `mutate()` and string functions:**\n",
    "\n",
    "- **`sex = substr(sexage, 1, 1)`**: Extracts the first character for sex.\n",
    "- **`age = substr(sexage, 2, nchar(sexage))`**: Extracts the remaining characters for age group."
   ]
  },
  {
   "cell_type": "code",
   "execution_count": null,
   "id": "who-extract-code",
   "metadata": {},
   "outputs": [],
   "source": [
    "# Extract sex and age\n",
    "who_clean <- who_separated %>%\n",
    "  mutate(\n",
    "    sex = substr(sexage, 1, 1),                      # Extract first character\n",
    "    age = substr(sexage, 2, nchar(sexage))           # Extract remaining characters\n",
    "  ) %>%\n",
    "  select(-c(new, sexage))                            # Remove redundant columns\n",
    "\n",
    "# View the cleaned data\n",
    "print(who_clean)"
   ]
  },
  {
   "cell_type": "markdown",
   "id": "who-extract-explanation",
   "metadata": {},
   "source": [
    "**Explanation:**\n",
    "\n",
    "- We use `substr()` to extract parts of the `sexage` string.\n",
    "- The `sex` column now contains `\"m\"` or `\"f\"`.\n",
    "- The `age` column contains the age group codes (e.g., `\"014\"`, `\"1524\"`).\n",
    "- We remove the `new` and `sexage` columns as they are no longer needed."
   ]
  },
  {
   "cell_type": "markdown",
   "id": "who-data-final",
   "metadata": {},
   "source": [
    "#### Step 4: Final Cleaning\n",
    "\n",
    "- **Rename columns**: Ensure that column names are clear and consistent.\n",
    "- **Arrange the data**: Order the data for better readability.\n",
    "- **Remove missing values**: Use `drop_na()` to remove any remaining rows with missing `cases`."
   ]
  },
  {
   "cell_type": "code",
   "execution_count": null,
   "id": "who-final-code",
   "metadata": {},
   "outputs": [],
   "source": [
    "# Final cleaning steps\n",
    "who_final <- who_clean %>%\n",
    "  rename(\n",
    "    country = country,\n",
    "    iso2 = iso2,\n",
    "    iso3 = iso3,\n",
    "    year = year,\n",
    "    type = type,\n",
    "    sex = sex,\n",
    "    age_group = age,\n",
    "    cases = cases\n",
    "  ) %>%\n",
    "  arrange(country, year, sex, age_group) %>%\n",
    "  drop_na(cases)\n",
    "\n",
    "# View the final cleaned data\n",
    "print(who_final)"
   ]
  },
  {
   "cell_type": "markdown",
   "id": "who-final-explanation",
   "metadata": {},
   "source": [
    "**Explanation:**\n",
    "\n",
    "- We ensure that all column names are clear and self-explanatory.\n",
    "- The data is arranged by `country`, `year`, `sex`, and `age_group` for logical ordering.\n",
    "- We remove any rows where `cases` is `NA` to focus on complete observations."
   ]
  },
  {
   "cell_type": "markdown",
   "id": "who-data-analysis",
   "metadata": {},
   "source": [
    "### 4.2 Analyzing the Cleaned Data\n",
    "\n",
    "Now that the data is tidy, we can perform analysis and create visualizations.\n",
    "\n",
    "#### Example: Total Cases by Year\n",
    "\n",
    "Let's calculate the total number of TB cases reported to WHO each year."
   ]
  },
  {
   "cell_type": "code",
   "execution_count": null,
   "id": "who-analysis-code",
   "metadata": {},
   "outputs": [],
   "source": [
    "# Total cases by year\n",
    "cases_by_year <- who_final %>%\n",
    "  group_by(year) %>%\n",
    "  summarize(total_cases = sum(cases))\n",
    "\n",
    "# View the summary\n",
    "cases_by_year"
   ]
  },
  {
   "cell_type": "markdown",
   "id": "who-plot",
   "metadata": {},
   "source": [
    "#### Plotting Total Cases Over Time\n",
    "\n",
    "We can visualize the total TB cases over time using a line plot."
   ]
  },
  {
   "cell_type": "code",
   "execution_count": null,
   "id": "who-plot-code",
   "metadata": {},
   "outputs": [],
   "source": [
    "# Plot total cases over time\n",
    "ggplot(cases_by_year, aes(x = year, y = total_cases)) +\n",
    "  geom_line(color = \"steelblue\") +\n",
    "  geom_point(color = \"steelblue\") +\n",
    "  labs(\n",
    "    title = \"Total TB Cases Reported to WHO\",\n",
    "    x = \"Year\",\n",
    "    y = \"Total Cases\"\n",
    "  ) +\n",
    "  theme_minimal()"
   ]
  },
  {
   "cell_type": "markdown",
   "id": "exercises",
   "metadata": {},
   "source": [
    "<a id='exercises'></a>\n",
    "## 5. Practical Exercises\n",
    "\n",
    "### Exercise 1: Further Analysis of WHO Data\n",
    "\n",
    "**Task**: Using the cleaned WHO dataset (`who_final`), calculate the total number of cases by sex and create a bar plot to visualize the differences.\n",
    "\n",
    "#### Your Code Here"
   ]
  },
  {
   "cell_type": "code",
   "execution_count": null,
   "id": "exercise1-code",
   "metadata": {},
   "outputs": [],
   "source": [
    "# Your code here"
   ]
  },
  {
   "cell_type": "markdown",
   "id": "exercise1-hint",
   "metadata": {},
   "source": [
    "<details>\n",
    "<summary><strong>Hint:</strong> Click to expand</summary>\n",
    "\n",
    "- Use `group_by(sex)` and `summarize()` to calculate total cases.\n",
    "- Use `ggplot2` to create the bar plot.\n",
    "- Remember to label your axes and add a title.\n",
    "\n",
    "</details>"
   ]
  },
  {
   "cell_type": "markdown",
   "id": "exercise1-solution",
   "metadata": {},
   "source": [
    "<details>\n",
    "<summary><strong>Solution:</strong> Click to expand</summary>\n",
    "\n",
    "```R\n",
    "# Solution\n",
    "cases_by_sex <- who_final %>%\n",
    "  group_by(sex) %>%\n",
    "  summarize(total_cases = sum(cases))\n",
    "\n",
    "# View the summary\n",
    "cases_by_sex\n",
    "\n",
    "# Plot total cases by sex\n",
    "ggplot(cases_by_sex, aes(x = sex, y = total_cases, fill = sex)) +\n",
    "  geom_bar(stat = \"identity\") +\n",
    "  labs(\n",
    "    title = \"Total TB Cases by Sex\",\n",
    "    x = \"Sex\",\n",
    "    y = \"Total Cases\"\n",
    "  ) +\n",
    "  theme_minimal() +\n",
    "  theme(legend.position = \"none\")\n",
    "```\n",
    "\n",
    "</details>"
   ]
  },
  {
   "cell_type": "markdown",
   "id": "exercise2",
   "metadata": {},
   "source": [
    "### Exercise 2: Age Group Analysis\n",
    "\n",
    "**Task**: Determine which age group has the highest number of TB cases. Create a bar plot to illustrate your findings.\n",
    "\n",
    "#### Your Code Here"
   ]
  },
  {
   "cell_type": "code",
   "execution_count": null,
   "id": "exercise2-code",
   "metadata": {},
   "outputs": [],
   "source": [
    "# Your code here"
   ]
  },
  {
   "cell_type": "markdown",
   "id": "exercise2-hint",
   "metadata": {},
   "source": [
    "<details>\n",
    "<summary><strong>Hint:</strong> Click to expand</summary>\n",
    "\n",
    "- Use `group_by(age_group)` and `summarize()` to calculate total cases.\n",
    "- Arrange the data in descending order to find the highest.\n",
    "- Use `ggplot2` to create the bar plot.\n",
    "\n",
    "</details>"
   ]
  },
  {
   "cell_type": "markdown",
   "id": "exercise2-solution",
   "metadata": {},
   "source": [
    "<details>\n",
    "<summary><strong>Solution:</strong> Click to expand</summary>\n",
    "\n",
    "```R\n",
    "# Solution\n",
    "cases_by_age <- who_final %>%\n",
    "  group_by(age_group) %>%\n",
    "  summarize(total_cases = sum(cases)) %>%\n",
    "  arrange(desc(total_cases))\n",
    "\n",
    "# View the summary\n",
    "cases_by_age\n",
    "\n",
    "# Plot total cases by age group\n",
    "ggplot(cases_by_age, aes(x = age_group, y = total_cases, fill = age_group)) +\n",
    "  geom_bar(stat = \"identity\") +\n",
    "  labs(\n",
    "    title = \"Total TB Cases by Age Group\",\n",
    "    x = \"Age Group\",\n",
    "    y = \"Total Cases\"\n",
    "  ) +\n",
    "  theme_minimal() +\n",
    "  theme(legend.position = \"none\")\n",
    "```\n",
    "\n",
    "</details>"
   ]
  },
  {
   "cell_type": "markdown",
   "id": "conclusion",
   "metadata": {},
   "source": [
    "<a id='conclusion'></a>\n",
    "## 6. Conclusion\n",
    "\n",
    "In this module, we've learned how to use the `tidyr` package to clean and reshape data into a tidy format. By mastering functions like `pivot_longer()`, `pivot_wider()`, `separate()`, and `unite()`, you can handle messy datasets effectively and prepare them for analysis.\n",
    "\n",
    "Tidy data is crucial for efficient data analysis and visualization. With clean data, you can leverage the full power of tools like `dplyr` and `ggplot2` to extract insights and communicate your findings.\n",
    "\n",
    "---\n",
    "\n",
    "If you have any questions or need further clarification, feel free to reach out!\n",
    "\n",
    "---\n",
    "\n",
    "**Next Steps**:\n",
    "\n",
    "- Practice tidying datasets from various domains.\n",
    "- Explore advanced `tidyr` functions like `nest()` and `unnest()`.\n",
    "- Combine `tidyr` with `dplyr` for powerful data manipulation.\n",
    "- Continue to the next module on advanced data analysis techniques.\n",
    "\n",
    "---"
   ]
  }
 ],
 "metadata": {
  "kernelspec": {
   "display_name": "R (Local)",
   "language": "R",
   "name": "conda-env-r_base-r"
  },
  "language_info": {
   "codemirror_mode": "r",
   "file_extension": ".r",
   "mimetype": "text/x-r-source",
   "name": "R",
   "pygments_lexer": "r",
   "version": "4.3.3"
  }
 },
 "nbformat": 4,
 "nbformat_minor": 5
}
