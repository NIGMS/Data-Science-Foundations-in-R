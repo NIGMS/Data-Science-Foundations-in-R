{
 "cells": [
  {
   "cell_type": "markdown",
   "id": "1f8bfe4b",
   "metadata": {},
   "source": [
    "# Introduction to R and Jupyter Notebooks\n",
    "\n",
    "------------------------\n",
    "\n",
    "Welcome to the first module on Data Analysis and Visualization in R. In this module, we'll introduce you to the basics of R programming and how to use Jupyter Notebooks for interactive coding and data analysis.\n",
    "\n",
    "## Learning Objectives\n",
    "\n",
    "1. [Introduction to R and Jupyter Notebooks](#introduction)\n",
    "2. [Basic R Syntax](#basic-syntax)\n",
    "3. [Data Structures in R](#data-structures)\n",
    "4. [Data Import/Export](#data-import-export)\n",
    "5. [Practical Exercises](#exercises)\n",
    "6. [Quiz](#quiz)\n",
    "\n",
    "---"
   ]
  },
  {
   "cell_type": "markdown",
   "id": "intro",
   "metadata": {},
   "source": [
    "<a id='introduction'></a>\n",
    "## 1. Introduction to R and Jupyter Notebooks\n",
    "\n",
    "### What is R?\n",
    "\n",
    "R is a programming language and software environment specifically designed for statistical computing and graphics. It's widely used among statisticians and data analysts for data analysis and developing statistical software.\n",
    "\n",
    "### What are Jupyter Notebooks?\n",
    "\n",
    "Jupyter Notebooks provide an interactive environment where you can combine code execution, rich text, mathematics, plots, and media. They are great for exploratory data analysis, sharing code, and creating interactive tutorials.\n",
    "\n",
    "### Why Use R in Jupyter Notebooks?\n",
    "\n",
    "- **Interactive Coding**: Run code snippets and see results immediately.\n",
    "- **Visualization**: Easily create and display plots inline.\n",
    "- **Documentation**: Combine code with explanations, making it ideal for learning and sharing.\n",
    "\n",
    "---\n",
    "\n",
    "## Load required libraries for this module"
   ]
  },
  {
   "cell_type": "code",
   "execution_count": null,
   "id": "e2ed7c96-9efd-44e8-a127-43975c2cef00",
   "metadata": {},
   "outputs": [],
   "source": [
    "# Suppress warnings and messages\n",
    "options(warn=-1)  # Suppress warnings\n",
    "options(message=FALSE)  # Suppress messages\n",
    "\n",
    "# Install required packages if not already installed\n",
    "if (!require(readxl)) install.packages(\"readxl\")\n",
    "if (!require(writexl)) install.packages(\"writexl\")\n",
    "\n",
    "# Load required libraries\n",
    "library(readxl)\n",
    "library(writexl)"
   ]
  },
  {
   "cell_type": "markdown",
   "id": "basic-syntax",
   "metadata": {},
   "source": [
    "<a id='basic-syntax'></a>\n",
    "## 2. Basic R Syntax\n",
    "\n",
    "Let's start by learning some basic R syntax. \n",
    "\n",
    "### Variables and Data Types\n",
    "\n",
    "In R, you can assign values to variables using the `<-` operator or the `=` sign. For example, `x <- 10` or `x = 10`.\n",
    "\n",
    "#### Step 1: Assigning Numeric Values\n",
    "\n",
    "To run the cell click the play button at the top of tab window or use \"shift + enter\""
   ]
  },
  {
   "cell_type": "code",
   "execution_count": null,
   "id": "assign-numeric",
   "metadata": {},
   "outputs": [],
   "source": [
    "# Assigning numeric values\n",
    "x <- 10           # Assigning an integer value to variable x\n",
    "y <- 5.5          # Assigning a floating-point number to variable y"
   ]
  },
  {
   "cell_type": "markdown",
   "id": "assign-character",
   "metadata": {},
   "source": [
    "#### Step 2: Assigning a Character String\n"
   ]
  },
  {
   "cell_type": "code",
   "execution_count": null,
   "id": "character-string",
   "metadata": {},
   "outputs": [],
   "source": [
    "# Assigning a character string\n",
    "name <- \"John Doe\"  # Assigning a character string to variable name"
   ]
  },
  {
   "cell_type": "markdown",
   "id": "assign-logical",
   "metadata": {},
   "source": [
    "#### Step 3: Assigning a Logical Value"
   ]
  },
  {
   "cell_type": "code",
   "execution_count": null,
   "id": "logical-value",
   "metadata": {},
   "outputs": [],
   "source": [
    "# Assigning a logical value\n",
    "is_student <- TRUE   # Assigning a logical value (TRUE or FALSE) to variable is_student"
   ]
  },
  {
   "cell_type": "markdown",
   "id": "access-variables",
   "metadata": {},
   "source": [
    "#### Step 4: Accessing the Variables\n",
    "\n",
    "You can access the value of a variable by simply typing its name or using the `print()` function."
   ]
  },
  {
   "cell_type": "code",
   "execution_count": null,
   "id": "access-vars",
   "metadata": {},
   "outputs": [],
   "source": [
    "# Accessing variables\n",
    "x            # Outputs the value of x\n",
    "print(y)     # Outputs the value of y\n",
    "name         # Outputs the value of name\n",
    "print(is_student)   # Outputs the value of is_student"
   ]
  },
  {
   "cell_type": "markdown",
   "id": "check-data-types",
   "metadata": {},
   "source": [
    "#### Step 5: Checking Data Types\n",
    "\n",
    "The `class()` function returns the data type of the variable."
   ]
  },
  {
   "cell_type": "code",
   "execution_count": null,
   "id": "data-types",
   "metadata": {},
   "outputs": [],
   "source": [
    "# Checking data types\n",
    "class(x)          # Should be \"numeric\"\n",
    "class(y)          # Should be \"numeric\"\n",
    "class(name)       # Should be \"character\"\n",
    "class(is_student) # Should be \"logical\""
   ]
  },
  {
   "cell_type": "markdown",
   "id": "basic-arithmetic",
   "metadata": {},
   "source": [
    "### Basic Arithmetic Operations\n",
    "\n",
    "You can perform arithmetic operations using standard operators."
   ]
  },
  {
   "cell_type": "markdown",
   "id": "addition",
   "metadata": {},
   "source": [
    "#### Addition"
   ]
  },
  {
   "cell_type": "code",
   "execution_count": null,
   "id": "addition-code",
   "metadata": {},
   "outputs": [],
   "source": [
    "# Addition\n",
    "sum <- x + y\n",
    "sum     # Outputs the sum"
   ]
  },
  {
   "cell_type": "code",
   "execution_count": null,
   "id": "addition-print",
   "metadata": {},
   "outputs": [],
   "source": [
    "# Alternatively\n",
    "print(sum)"
   ]
  },
  {
   "cell_type": "code",
   "execution_count": null,
   "id": "addition-context",
   "metadata": {},
   "outputs": [],
   "source": [
    "# Adding context\n",
    "print(paste(\"Sum:\", sum))"
   ]
  },
  {
   "cell_type": "markdown",
   "id": "subtraction",
   "metadata": {},
   "source": [
    "#### Subtraction"
   ]
  },
  {
   "cell_type": "code",
   "execution_count": null,
   "id": "subtraction-code",
   "metadata": {},
   "outputs": [],
   "source": [
    "# Subtraction\n",
    "difference <- x - y\n",
    "print(paste(\"Difference:\", difference))"
   ]
  },
  {
   "cell_type": "markdown",
   "id": "multiplication",
   "metadata": {},
   "source": [
    "#### Multiplication"
   ]
  },
  {
   "cell_type": "code",
   "execution_count": null,
   "id": "multiplication-code",
   "metadata": {},
   "outputs": [],
   "source": [
    "# Multiplication\n",
    "product <- x * y\n",
    "print(paste(\"Product:\", product))"
   ]
  },
  {
   "cell_type": "markdown",
   "id": "division",
   "metadata": {},
   "source": [
    "#### Division"
   ]
  },
  {
   "cell_type": "code",
   "execution_count": null,
   "id": "division-code",
   "metadata": {},
   "outputs": [],
   "source": [
    "# Division\n",
    "quotient <- x / y\n",
    "print(paste(\"Quotient:\", quotient))"
   ]
  },
  {
   "cell_type": "markdown",
   "id": "exponentiation",
   "metadata": {},
   "source": [
    "#### Exponentiation"
   ]
  },
  {
   "cell_type": "code",
   "execution_count": null,
   "id": "exponentiation-code",
   "metadata": {},
   "outputs": [],
   "source": [
    "# Exponentiation\n",
    "power <- x ^ 2\n",
    "print(paste(\"Power:\", power))"
   ]
  },
  {
   "cell_type": "markdown",
   "id": "data-structures",
   "metadata": {},
   "source": [
    "---\n",
    "\n",
    "<a id='data-structures'></a>\n",
    "## 3. Data Structures in R\n",
    "\n",
    "R has several data structures to store and manipulate data.\n",
    "\n",
    "### Vectors\n",
    "\n",
    "A vector is a sequence of data elements of the same basic type."
   ]
  },
  {
   "cell_type": "markdown",
   "id": "numeric-vectors",
   "metadata": {},
   "source": [
    "#### Creating Numeric Vectors"
   ]
  },
  {
   "cell_type": "code",
   "execution_count": null,
   "id": "numeric-vector-code",
   "metadata": {},
   "outputs": [],
   "source": [
    "# Numeric vector\n",
    "numbers <- c(1, 2, 3, 4, 5)\n",
    "numbers    # Outputs the vector"
   ]
  },
  {
   "cell_type": "markdown",
   "id": "character-vectors",
   "metadata": {},
   "source": [
    "#### Creating Character Vectors"
   ]
  },
  {
   "cell_type": "code",
   "execution_count": null,
   "id": "character-vector-code",
   "metadata": {},
   "outputs": [],
   "source": [
    "# Character vector\n",
    "fruits <- c(\"apple\", \"banana\", \"cherry\")\n",
    "fruits    # Outputs the vector"
   ]
  },
  {
   "cell_type": "markdown",
   "id": "logical-vectors",
   "metadata": {},
   "source": [
    "#### Creating Logical Vectors"
   ]
  },
  {
   "cell_type": "code",
   "execution_count": null,
   "id": "logical-vector-code",
   "metadata": {},
   "outputs": [],
   "source": [
    "# Logical vector\n",
    "flags <- c(TRUE, FALSE, TRUE, TRUE)\n",
    "flags     # Outputs the vector"
   ]
  },
  {
   "cell_type": "markdown",
   "id": "accessing-vectors",
   "metadata": {},
   "source": [
    "#### Accessing Vector Elements"
   ]
  },
  {
   "cell_type": "code",
   "execution_count": null,
   "id": "access-vectors",
   "metadata": {},
   "outputs": [],
   "source": [
    "# Accessing elements\n",
    "numbers[3]      # Outputs the third element\n",
    "numbers[-3]     # Outputs all elements except the third\n",
    "numbers[2:4]    # Outputs elements from second to fourth"
   ]
  },
  {
   "cell_type": "markdown",
   "id": "matrices",
   "metadata": {},
   "source": [
    "### Matrices\n",
    "\n",
    "A matrix is a two-dimensional array where each element has the same data type.  The matrix is filled out top to bottom, left to right."
   ]
  },
  {
   "cell_type": "code",
   "execution_count": null,
   "id": "matrix-code",
   "metadata": {},
   "outputs": [],
   "source": [
    "# Creating a matrix\n",
    "mat <- matrix(1:9, nrow = 3, ncol = 3)\n",
    "mat     # Outputs the matrix"
   ]
  },
  {
   "cell_type": "markdown",
   "id": "lists",
   "metadata": {},
   "source": [
    "### Lists\n",
    "\n",
    "A list is a collection of objects that can be of different types."
   ]
  },
  {
   "cell_type": "markdown",
   "id": "creating-lists",
   "metadata": {},
   "source": [
    "#### Creating a List"
   ]
  },
  {
   "cell_type": "code",
   "execution_count": null,
   "id": "list-code",
   "metadata": {},
   "outputs": [],
   "source": [
    "# Creating a list\n",
    "my_list <- list(name = \"Alice\", age = 25, scores = c(90, 85, 92))\n",
    "my_list     # Outputs the list"
   ]
  },
  {
   "cell_type": "markdown",
   "id": "accessing-lists",
   "metadata": {},
   "source": [
    "#### Accessing List Elements"
   ]
  },
  {
   "cell_type": "code",
   "execution_count": null,
   "id": "access-list-elements",
   "metadata": {},
   "outputs": [],
   "source": [
    "# Accessing list elements\n",
    "my_list$name\n",
    "my_list$age\n",
    "my_list$scores"
   ]
  },
  {
   "cell_type": "markdown",
   "id": "data-frames",
   "metadata": {},
   "source": [
    "### Data Frames\n",
    "\n",
    "A data frame is a table where each column can contain different types of data."
   ]
  },
  {
   "cell_type": "markdown",
   "id": "creating-data-frames",
   "metadata": {},
   "source": [
    "#### Creating a Data Frame"
   ]
  },
  {
   "cell_type": "code",
   "execution_count": null,
   "id": "data-frame-code",
   "metadata": {},
   "outputs": [],
   "source": [
    "# Creating a data frame\n",
    "df <- data.frame(\n",
    "  id = 1:3,\n",
    "  name = c(\"John\", \"Jane\", \"Doe\"),\n",
    "  score = c(88, 92, 95)\n",
    ")\n",
    "df     # Outputs the data frame"
   ]
  },
  {
   "cell_type": "markdown",
   "id": "accessing-data-frames",
   "metadata": {},
   "source": [
    "#### Accessing Data Frame Elements"
   ]
  },
  {
   "cell_type": "code",
   "execution_count": null,
   "id": "access-data-frame",
   "metadata": {},
   "outputs": [],
   "source": [
    "# Accessing a column by name\n",
    "df$name"
   ]
  },
  {
   "cell_type": "code",
   "execution_count": null,
   "id": "access-row",
   "metadata": {},
   "outputs": [],
   "source": [
    "# Accessing a row by index\n",
    "df[2, ]    # Outputs the second row"
   ]
  },
  {
   "cell_type": "code",
   "execution_count": null,
   "id": "access-element",
   "metadata": {},
   "outputs": [],
   "source": [
    "# Accessing a specific element\n",
    "df[2, \"score\"]   # Outputs the score of the second row"
   ]
  },
  {
   "cell_type": "markdown",
   "id": "data-import-export",
   "metadata": {},
   "source": [
    "---\n",
    "\n",
    "<a id='data-import-export'></a>\n",
    "## 4. Data Import/Export\n",
    "\n",
    "### Reading Data from Files\n",
    "\n",
    "You can read data from various file formats."
   ]
  },
  {
   "cell_type": "markdown",
   "id": "reading-csv",
   "metadata": {},
   "source": [
    "#### Reading a CSV File"
   ]
  },
  {
   "cell_type": "code",
   "execution_count": null,
   "id": "read-csv",
   "metadata": {},
   "outputs": [],
   "source": [
    "# Reading a CSV file\n",
    "data_csv <- read.csv(\"assets/data/sample_data.csv\")\n",
    "head(data_csv)   # Displays the first few rows"
   ]
  },
  {
   "cell_type": "markdown",
   "id": "reading-excel",
   "metadata": {},
   "source": [
    "#### Reading an Excel File"
   ]
  },
  {
   "cell_type": "code",
   "execution_count": null,
   "id": "read-excel",
   "metadata": {},
   "outputs": [],
   "source": [
    "#Reading an excel file\n",
    "data_xlsx <- read_excel(\"assets/data/sample_data.xlsx\")\n",
    "head(data_xlsx)"
   ]
  },
  {
   "cell_type": "markdown",
   "id": "writing-data",
   "metadata": {},
   "source": [
    "### Writing Data to Files"
   ]
  },
  {
   "cell_type": "markdown",
   "id": "writing-csv",
   "metadata": {},
   "source": [
    "#### Writing to a CSV File"
   ]
  },
  {
   "cell_type": "code",
   "execution_count": null,
   "id": "write-csv",
   "metadata": {},
   "outputs": [],
   "source": [
    "# Writing to a CSV file\n",
    "write.csv(data_xlsx, \"output_data.csv\", row.names = FALSE)"
   ]
  },
  {
   "cell_type": "markdown",
   "id": "writing-excel",
   "metadata": {},
   "source": [
    "#### Writing to an Excel File"
   ]
  },
  {
   "cell_type": "code",
   "execution_count": null,
   "id": "write-excel",
   "metadata": {},
   "outputs": [],
   "source": [
    "# Writing to an Excel file\n",
    "write_xlsx(data_csv, \"output_data.xlsx\")"
   ]
  },
  {
   "cell_type": "markdown",
   "id": "exercises",
   "metadata": {},
   "source": [
    "---\n",
    "\n",
    "<a id='exercises'></a>\n",
    "## 5. Practical Exercises\n",
    "\n",
    "Now it's time to apply what you've learned!\n",
    "\n",
    "### Exercise 1: Basic Calculations\n",
    "\n",
    "**Task**: Create two variables, `a` and `b`, assign them the values 15 and 7 respectively. Calculate their sum, difference, product, and quotient.\n",
    "\n",
    "#### Your Code Here:"
   ]
  },
  {
   "cell_type": "code",
   "execution_count": null,
   "id": "exercise1",
   "metadata": {},
   "outputs": [],
   "source": [
    "# Your code here"
   ]
  },
  {
   "cell_type": "markdown",
   "id": "exercise1-hint",
   "metadata": {},
   "source": [
    "<details>\n",
    "<summary><strong>Hint:</strong> Click to expand</summary>\n",
    "\n",
    "- Use the `<-` operator to assign values.\n",
    "- Perform arithmetic operations using `+`, `-`, `*`, `/`.\n",
    "\n",
    "</details>"
   ]
  },
  {
   "cell_type": "markdown",
   "id": "exercise1-solution",
   "metadata": {},
   "source": [
    "<details>\n",
    "<summary><strong>Solution:</strong> Click to expand</summary>\n",
    "\n",
    "```R\n",
    "# Assigning values\n",
    "a <- 15\n",
    "b <- 7\n",
    "\n",
    "# Calculating sum\n",
    "sum <- a + b\n",
    "print(paste(\"Sum:\", sum))\n",
    "\n",
    "# Calculating difference\n",
    "difference <- a - b\n",
    "print(paste(\"Difference:\", difference))\n",
    "\n",
    "# Calculating product\n",
    "product <- a * b\n",
    "print(paste(\"Product:\", product))\n",
    "\n",
    "# Calculating quotient\n",
    "quotient <- a / b\n",
    "print(paste(\"Quotient:\", quotient))\n",
    "```\n",
    "\n",
    "</details>"
   ]
  },
  {
   "cell_type": "markdown",
   "id": "exercise2",
   "metadata": {},
   "source": [
    "---\n",
    "\n",
    "### Exercise 2: Working with Vectors\n",
    "\n",
    "**Task**: Create a numeric vector `temps` containing the following temperatures in Celsius: 23, 25, 19, 22, 20, 18, 24. Calculate the mean temperature.\n",
    "\n",
    "#### Your Code Here:"
   ]
  },
  {
   "cell_type": "code",
   "execution_count": null,
   "id": "exercise2-code",
   "metadata": {},
   "outputs": [],
   "source": [
    "# Your code here"
   ]
  },
  {
   "cell_type": "markdown",
   "id": "exercise2-hint",
   "metadata": {},
   "source": [
    "<details>\n",
    "<summary><strong>Hint:</strong> Click to expand</summary>\n",
    "\n",
    "- Use `c()` to create the vector.\n",
    "- Use the `mean()` function to calculate the average.\n",
    "\n",
    "</details>"
   ]
  },
  {
   "cell_type": "markdown",
   "id": "exercise2-solution",
   "metadata": {},
   "source": [
    "<details>\n",
    "<summary><strong>Solution:</strong> Click to expand</summary>\n",
    "\n",
    "```R\n",
    "# Creating the vector\n",
    "temps <- c(23, 25, 19, 22, 20, 18, 24)\n",
    "\n",
    "# Calculating the mean temperature\n",
    "mean_temp <- mean(temps)\n",
    "print(paste(\"Mean Temperature:\", mean_temp))\n",
    "```\n",
    "\n",
    "</details>"
   ]
  },
  {
   "cell_type": "markdown",
   "id": "exercise3",
   "metadata": {},
   "source": [
    "---\n",
    "\n",
    "### Exercise 3: Data Frame Manipulation\n",
    "\n",
    "**Task**: Create a data frame `students` with the following data:\n",
    "\n",
    "- **Names**: \"Alice\", \"Bob\", \"Charlie\"\n",
    "- **Ages**: 24, 22, 23\n",
    "- **Scores**: 90, 85, 88\n",
    "\n",
    "Add a new column `Passed` which is `TRUE` if the score is 85 or above.\n",
    "\n",
    "#### Your Code Here"
   ]
  },
  {
   "cell_type": "code",
   "execution_count": null,
   "id": "exercise3-code",
   "metadata": {},
   "outputs": [],
   "source": [
    "# Your code here"
   ]
  },
  {
   "cell_type": "markdown",
   "id": "exercise3-hint",
   "metadata": {},
   "source": [
    "<details>\n",
    "<summary><strong>Hint:</strong> Click to expand</summary>\n",
    "\n",
    "- Use `data.frame()` to create the data frame.\n",
    "- Use a logical condition to create the `Passed` column.\n",
    "\n",
    "</details>"
   ]
  },
  {
   "cell_type": "markdown",
   "id": "exercise3-solution",
   "metadata": {},
   "source": [
    "<details>\n",
    "<summary><strong>Solution:</strong> Click to expand</summary>\n",
    "\n",
    "```R\n",
    "# Creating the data frame\n",
    "students <- data.frame(\n",
    "  Names = c(\"Alice\", \"Bob\", \"Charlie\"),\n",
    "  Ages = c(24, 22, 23),\n",
    "  Scores = c(90, 85, 88)\n",
    ")\n",
    "\n",
    "# Adding the Passed column\n",
    "students$Passed <- students$Scores >= 85\n",
    "\n",
    "# Displaying the data frame\n",
    "print(students)\n",
    "```\n",
    "\n",
    "</details>"
   ]
  }
 ],
 "metadata": {},
 "nbformat": 4,
 "nbformat_minor": 5
}
